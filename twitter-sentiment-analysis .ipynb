{
 "cells": [
  {
   "cell_type": "markdown",
   "metadata": {},
   "source": [
    "## Short Brief about the project \n",
    "\n",
    "#### Twitter Sentiment Analysis with NLP\" refers to the process of using Natural Language Processing (NLP) techniques to analyze and understand the sentiment or emotions expressed in tweets on the Twitter platform. This involves categorizing tweets as positive, negative, or neutral, and can provide valuable insights into public opinion, trends, and user sentiments on various topics or events discussed on Twitter."
   ]
  },
  {
   "cell_type": "code",
   "execution_count": 1,
   "metadata": {
    "_cell_guid": "b1076dfc-b9ad-4769-8c92-a6c4dae69d19",
    "_uuid": "8f2839f25d086af736a60e9eeb907d3b93b6e0e5",
    "execution": {
     "iopub.execute_input": "2022-02-27T16:21:46.393685Z",
     "iopub.status.busy": "2022-02-27T16:21:46.392567Z",
     "iopub.status.idle": "2022-02-27T16:21:46.406280Z",
     "shell.execute_reply": "2022-02-27T16:21:46.405654Z",
     "shell.execute_reply.started": "2022-02-27T15:27:24.384229Z"
    },
    "papermill": {
     "duration": 0.056914,
     "end_time": "2022-02-27T16:21:46.406449",
     "exception": false,
     "start_time": "2022-02-27T16:21:46.349535",
     "status": "completed"
    },
    "tags": []
   },
   "outputs": [
    {
     "name": "stdout",
     "output_type": "stream",
     "text": [
      "/kaggle/input/twitter-analysis-dataset-2022/twitter.csv\n"
     ]
    }
   ],
   "source": [
    "import numpy as np # linear algebra\n",
    "import pandas as pd # data processing, CSV file I/O (e.g. pd.read_csv)\n",
    "\n",
    "import os\n",
    "for dirname, _, filenames in os.walk('/kaggle/input'):\n",
    "    for filename in filenames:\n",
    "        print(os.path.join(dirname, filename))"
   ]
  },
  {
   "cell_type": "markdown",
   "metadata": {
    "papermill": {
     "duration": 0.038706,
     "end_time": "2022-02-27T16:21:46.482220",
     "exception": false,
     "start_time": "2022-02-27T16:21:46.443514",
     "status": "completed"
    },
    "tags": []
   },
   "source": [
    "# Problem Statement and Business Case"
   ]
  },
  {
   "cell_type": "code",
   "execution_count": 2,
   "metadata": {
    "execution": {
     "iopub.execute_input": "2022-02-27T16:21:46.561545Z",
     "iopub.status.busy": "2022-02-27T16:21:46.560612Z",
     "iopub.status.idle": "2022-02-27T16:21:46.563027Z",
     "shell.execute_reply": "2022-02-27T16:21:46.562594Z",
     "shell.execute_reply.started": "2022-02-27T15:58:29.468199Z"
    },
    "papermill": {
     "duration": 0.044025,
     "end_time": "2022-02-27T16:21:46.563194",
     "exception": false,
     "start_time": "2022-02-27T16:21:46.519169",
     "status": "completed"
    },
    "tags": []
   },
   "outputs": [],
   "source": [
    "# NLP (Natural Language Processing) works by converting words (texts) into numbers \n",
    "# These numbers are then used to train the Machine Learning Models to make Predictions\n",
    "# This AI/ML model is crucial for companies to detect their customer reviews fast and efficiently\n",
    "# The dataset contains 1000's of tweets and detects tweet as positive (1) or negative (0)"
   ]
  },
  {
   "cell_type": "markdown",
   "metadata": {
    "papermill": {
     "duration": 0.036284,
     "end_time": "2022-02-27T16:21:46.636172",
     "exception": false,
     "start_time": "2022-02-27T16:21:46.599888",
     "status": "completed"
    },
    "tags": []
   },
   "source": [
    "# Importing Libraries and Dataset"
   ]
  },
  {
   "cell_type": "code",
   "execution_count": 3,
   "metadata": {
    "execution": {
     "iopub.execute_input": "2022-02-27T16:21:46.714340Z",
     "iopub.status.busy": "2022-02-27T16:21:46.713664Z",
     "iopub.status.idle": "2022-02-27T16:21:48.585045Z",
     "shell.execute_reply": "2022-02-27T16:21:48.584433Z",
     "shell.execute_reply.started": "2022-02-27T15:46:47.409987Z"
    },
    "papermill": {
     "duration": 1.912707,
     "end_time": "2022-02-27T16:21:48.585215",
     "exception": false,
     "start_time": "2022-02-27T16:21:46.672508",
     "status": "completed"
    },
    "tags": []
   },
   "outputs": [],
   "source": [
    "import pandas as pd\n",
    "import numpy as np\n",
    "import seaborn as sns\n",
    "import matplotlib.pyplot as plt\n",
    "import nltk # Natural Language tool kit "
   ]
  },
  {
   "cell_type": "code",
   "execution_count": 4,
   "metadata": {
    "execution": {
     "iopub.execute_input": "2022-02-27T16:21:48.666073Z",
     "iopub.status.busy": "2022-02-27T16:21:48.665359Z",
     "iopub.status.idle": "2022-02-27T16:21:48.794848Z",
     "shell.execute_reply": "2022-02-27T16:21:48.795599Z",
     "shell.execute_reply.started": "2022-02-27T15:37:53.919421Z"
    },
    "papermill": {
     "duration": 0.171802,
     "end_time": "2022-02-27T16:21:48.795790",
     "exception": false,
     "start_time": "2022-02-27T16:21:48.623988",
     "status": "completed"
    },
    "tags": []
   },
   "outputs": [],
   "source": [
    "# Load the data\n",
    "data=pd.read_csv('../input/twitter-analysis-dataset-2022/twitter.csv')"
   ]
  },
  {
   "cell_type": "code",
   "execution_count": 5,
   "metadata": {
    "execution": {
     "iopub.execute_input": "2022-02-27T16:21:48.874498Z",
     "iopub.status.busy": "2022-02-27T16:21:48.873820Z",
     "iopub.status.idle": "2022-02-27T16:21:48.917740Z",
     "shell.execute_reply": "2022-02-27T16:21:48.918272Z",
     "shell.execute_reply.started": "2022-02-27T15:38:07.289976Z"
    },
    "papermill": {
     "duration": 0.084879,
     "end_time": "2022-02-27T16:21:48.918468",
     "exception": false,
     "start_time": "2022-02-27T16:21:48.833589",
     "status": "completed"
    },
    "tags": []
   },
   "outputs": [
    {
     "name": "stdout",
     "output_type": "stream",
     "text": [
      "<class 'pandas.core.frame.DataFrame'>\n",
      "RangeIndex: 31962 entries, 0 to 31961\n",
      "Data columns (total 3 columns):\n",
      " #   Column  Non-Null Count  Dtype \n",
      "---  ------  --------------  ----- \n",
      " 0   id      31962 non-null  int64 \n",
      " 1   label   31962 non-null  int64 \n",
      " 2   tweet   31962 non-null  object\n",
      "dtypes: int64(2), object(1)\n",
      "memory usage: 749.2+ KB\n"
     ]
    },
    {
     "data": {
      "text/html": [
       "<div>\n",
       "<style scoped>\n",
       "    .dataframe tbody tr th:only-of-type {\n",
       "        vertical-align: middle;\n",
       "    }\n",
       "\n",
       "    .dataframe tbody tr th {\n",
       "        vertical-align: top;\n",
       "    }\n",
       "\n",
       "    .dataframe thead th {\n",
       "        text-align: right;\n",
       "    }\n",
       "</style>\n",
       "<table border=\"1\" class=\"dataframe\">\n",
       "  <thead>\n",
       "    <tr style=\"text-align: right;\">\n",
       "      <th></th>\n",
       "      <th>id</th>\n",
       "      <th>label</th>\n",
       "      <th>tweet</th>\n",
       "    </tr>\n",
       "  </thead>\n",
       "  <tbody>\n",
       "    <tr>\n",
       "      <th>0</th>\n",
       "      <td>1</td>\n",
       "      <td>0</td>\n",
       "      <td>@user when a father is dysfunctional and is s...</td>\n",
       "    </tr>\n",
       "    <tr>\n",
       "      <th>1</th>\n",
       "      <td>2</td>\n",
       "      <td>0</td>\n",
       "      <td>@user @user thanks for #lyft credit i can't us...</td>\n",
       "    </tr>\n",
       "    <tr>\n",
       "      <th>2</th>\n",
       "      <td>3</td>\n",
       "      <td>0</td>\n",
       "      <td>bihday your majesty</td>\n",
       "    </tr>\n",
       "    <tr>\n",
       "      <th>3</th>\n",
       "      <td>4</td>\n",
       "      <td>0</td>\n",
       "      <td>#model   i love u take with u all the time in ...</td>\n",
       "    </tr>\n",
       "    <tr>\n",
       "      <th>4</th>\n",
       "      <td>5</td>\n",
       "      <td>0</td>\n",
       "      <td>factsguide: society now    #motivation</td>\n",
       "    </tr>\n",
       "    <tr>\n",
       "      <th>...</th>\n",
       "      <td>...</td>\n",
       "      <td>...</td>\n",
       "      <td>...</td>\n",
       "    </tr>\n",
       "    <tr>\n",
       "      <th>31957</th>\n",
       "      <td>31958</td>\n",
       "      <td>0</td>\n",
       "      <td>ate @user isz that youuu?ðððððð...</td>\n",
       "    </tr>\n",
       "    <tr>\n",
       "      <th>31958</th>\n",
       "      <td>31959</td>\n",
       "      <td>0</td>\n",
       "      <td>to see nina turner on the airwaves trying to...</td>\n",
       "    </tr>\n",
       "    <tr>\n",
       "      <th>31959</th>\n",
       "      <td>31960</td>\n",
       "      <td>0</td>\n",
       "      <td>listening to sad songs on a monday morning otw...</td>\n",
       "    </tr>\n",
       "    <tr>\n",
       "      <th>31960</th>\n",
       "      <td>31961</td>\n",
       "      <td>1</td>\n",
       "      <td>@user #sikh #temple vandalised in in #calgary,...</td>\n",
       "    </tr>\n",
       "    <tr>\n",
       "      <th>31961</th>\n",
       "      <td>31962</td>\n",
       "      <td>0</td>\n",
       "      <td>thank you @user for you follow</td>\n",
       "    </tr>\n",
       "  </tbody>\n",
       "</table>\n",
       "<p>31962 rows × 3 columns</p>\n",
       "</div>"
      ],
      "text/plain": [
       "          id  label                                              tweet\n",
       "0          1      0   @user when a father is dysfunctional and is s...\n",
       "1          2      0  @user @user thanks for #lyft credit i can't us...\n",
       "2          3      0                                bihday your majesty\n",
       "3          4      0  #model   i love u take with u all the time in ...\n",
       "4          5      0             factsguide: society now    #motivation\n",
       "...      ...    ...                                                ...\n",
       "31957  31958      0  ate @user isz that youuu?ðððððð...\n",
       "31958  31959      0    to see nina turner on the airwaves trying to...\n",
       "31959  31960      0  listening to sad songs on a monday morning otw...\n",
       "31960  31961      1  @user #sikh #temple vandalised in in #calgary,...\n",
       "31961  31962      0                   thank you @user for you follow  \n",
       "\n",
       "[31962 rows x 3 columns]"
      ]
     },
     "execution_count": 5,
     "metadata": {},
     "output_type": "execute_result"
    }
   ],
   "source": [
    "data.info()\n",
    "data"
   ]
  },
  {
   "cell_type": "code",
   "execution_count": 6,
   "metadata": {
    "execution": {
     "iopub.execute_input": "2022-02-27T16:21:49.002552Z",
     "iopub.status.busy": "2022-02-27T16:21:49.001859Z",
     "iopub.status.idle": "2022-02-27T16:21:49.017567Z",
     "shell.execute_reply": "2022-02-27T16:21:49.018160Z",
     "shell.execute_reply.started": "2022-02-27T15:38:23.457099Z"
    },
    "papermill": {
     "duration": 0.062728,
     "end_time": "2022-02-27T16:21:49.018351",
     "exception": false,
     "start_time": "2022-02-27T16:21:48.955623",
     "status": "completed"
    },
    "tags": []
   },
   "outputs": [
    {
     "data": {
      "text/html": [
       "<div>\n",
       "<style scoped>\n",
       "    .dataframe tbody tr th:only-of-type {\n",
       "        vertical-align: middle;\n",
       "    }\n",
       "\n",
       "    .dataframe tbody tr th {\n",
       "        vertical-align: top;\n",
       "    }\n",
       "\n",
       "    .dataframe thead th {\n",
       "        text-align: right;\n",
       "    }\n",
       "</style>\n",
       "<table border=\"1\" class=\"dataframe\">\n",
       "  <thead>\n",
       "    <tr style=\"text-align: right;\">\n",
       "      <th></th>\n",
       "      <th>id</th>\n",
       "      <th>label</th>\n",
       "    </tr>\n",
       "  </thead>\n",
       "  <tbody>\n",
       "    <tr>\n",
       "      <th>count</th>\n",
       "      <td>31962.000000</td>\n",
       "      <td>31962.000000</td>\n",
       "    </tr>\n",
       "    <tr>\n",
       "      <th>mean</th>\n",
       "      <td>15981.500000</td>\n",
       "      <td>0.070146</td>\n",
       "    </tr>\n",
       "    <tr>\n",
       "      <th>std</th>\n",
       "      <td>9226.778988</td>\n",
       "      <td>0.255397</td>\n",
       "    </tr>\n",
       "    <tr>\n",
       "      <th>min</th>\n",
       "      <td>1.000000</td>\n",
       "      <td>0.000000</td>\n",
       "    </tr>\n",
       "    <tr>\n",
       "      <th>25%</th>\n",
       "      <td>7991.250000</td>\n",
       "      <td>0.000000</td>\n",
       "    </tr>\n",
       "    <tr>\n",
       "      <th>50%</th>\n",
       "      <td>15981.500000</td>\n",
       "      <td>0.000000</td>\n",
       "    </tr>\n",
       "    <tr>\n",
       "      <th>75%</th>\n",
       "      <td>23971.750000</td>\n",
       "      <td>0.000000</td>\n",
       "    </tr>\n",
       "    <tr>\n",
       "      <th>max</th>\n",
       "      <td>31962.000000</td>\n",
       "      <td>1.000000</td>\n",
       "    </tr>\n",
       "  </tbody>\n",
       "</table>\n",
       "</div>"
      ],
      "text/plain": [
       "                 id         label\n",
       "count  31962.000000  31962.000000\n",
       "mean   15981.500000      0.070146\n",
       "std     9226.778988      0.255397\n",
       "min        1.000000      0.000000\n",
       "25%     7991.250000      0.000000\n",
       "50%    15981.500000      0.000000\n",
       "75%    23971.750000      0.000000\n",
       "max    31962.000000      1.000000"
      ]
     },
     "execution_count": 6,
     "metadata": {},
     "output_type": "execute_result"
    }
   ],
   "source": [
    "data.describe()"
   ]
  },
  {
   "cell_type": "code",
   "execution_count": 7,
   "metadata": {
    "execution": {
     "iopub.execute_input": "2022-02-27T16:21:49.100081Z",
     "iopub.status.busy": "2022-02-27T16:21:49.099453Z",
     "iopub.status.idle": "2022-02-27T16:21:49.106013Z",
     "shell.execute_reply": "2022-02-27T16:21:49.106533Z",
     "shell.execute_reply.started": "2022-02-27T15:38:31.668855Z"
    },
    "papermill": {
     "duration": 0.047939,
     "end_time": "2022-02-27T16:21:49.106715",
     "exception": false,
     "start_time": "2022-02-27T16:21:49.058776",
     "status": "completed"
    },
    "tags": []
   },
   "outputs": [
    {
     "data": {
      "text/plain": [
       "0         @user when a father is dysfunctional and is s...\n",
       "1        @user @user thanks for #lyft credit i can't us...\n",
       "2                                      bihday your majesty\n",
       "3        #model   i love u take with u all the time in ...\n",
       "4                   factsguide: society now    #motivation\n",
       "                               ...                        \n",
       "31957    ate @user isz that youuu?ðððððð...\n",
       "31958      to see nina turner on the airwaves trying to...\n",
       "31959    listening to sad songs on a monday morning otw...\n",
       "31960    @user #sikh #temple vandalised in in #calgary,...\n",
       "31961                     thank you @user for you follow  \n",
       "Name: tweet, Length: 31962, dtype: object"
      ]
     },
     "execution_count": 7,
     "metadata": {},
     "output_type": "execute_result"
    }
   ],
   "source": [
    "data['tweet']"
   ]
  },
  {
   "cell_type": "code",
   "execution_count": 8,
   "metadata": {
    "execution": {
     "iopub.execute_input": "2022-02-27T16:21:49.186172Z",
     "iopub.status.busy": "2022-02-27T16:21:49.185561Z",
     "iopub.status.idle": "2022-02-27T16:21:49.191420Z",
     "shell.execute_reply": "2022-02-27T16:21:49.191906Z",
     "shell.execute_reply.started": "2022-02-27T15:39:05.697082Z"
    },
    "papermill": {
     "duration": 0.047321,
     "end_time": "2022-02-27T16:21:49.192106",
     "exception": false,
     "start_time": "2022-02-27T16:21:49.144785",
     "status": "completed"
    },
    "tags": []
   },
   "outputs": [],
   "source": [
    "tweets_df=data\n",
    "\n",
    "# Drop the 'id' column\n",
    "tweets_df = tweets_df.drop(['id'], axis=1)"
   ]
  },
  {
   "cell_type": "markdown",
   "metadata": {
    "papermill": {
     "duration": 0.037401,
     "end_time": "2022-02-27T16:21:49.267273",
     "exception": false,
     "start_time": "2022-02-27T16:21:49.229872",
     "status": "completed"
    },
    "tags": []
   },
   "source": [
    "# Exploring Dataset"
   ]
  },
  {
   "cell_type": "code",
   "execution_count": 9,
   "metadata": {
    "execution": {
     "iopub.execute_input": "2022-02-27T16:21:49.346272Z",
     "iopub.status.busy": "2022-02-27T16:21:49.345617Z",
     "iopub.status.idle": "2022-02-27T16:21:49.780474Z",
     "shell.execute_reply": "2022-02-27T16:21:49.779118Z",
     "shell.execute_reply.started": "2022-02-27T15:40:24.031761Z"
    },
    "papermill": {
     "duration": 0.475395,
     "end_time": "2022-02-27T16:21:49.780645",
     "exception": false,
     "start_time": "2022-02-27T16:21:49.305250",
     "status": "completed"
    },
    "tags": []
   },
   "outputs": [
    {
     "data": {
      "image/png": "[encoded data removed]",
      "text/plain": [
       "<Figure size 936x360 with 2 Axes>"
      ]
     },
     "metadata": {
      "needs_background": "light"
     },
     "output_type": "display_data"
    }
   ],
   "source": [
    "data.hist(bins = 30, figsize = (13,5), color = 'r')\n",
    "plt.show()"
   ]
  },
  {
   "cell_type": "code",
   "execution_count": 10,
   "metadata": {
    "execution": {
     "iopub.execute_input": "2022-02-27T16:21:49.867064Z",
     "iopub.status.busy": "2022-02-27T16:21:49.866009Z",
     "iopub.status.idle": "2022-02-27T16:21:50.208146Z",
     "shell.execute_reply": "2022-02-27T16:21:50.207585Z",
     "shell.execute_reply.started": "2022-02-27T15:41:10.308555Z"
    },
    "papermill": {
     "duration": 0.387067,
     "end_time": "2022-02-27T16:21:50.208323",
     "exception": false,
     "start_time": "2022-02-27T16:21:49.821256",
     "status": "completed"
    },
    "tags": []
   },
   "outputs": [
    {
     "name": "stderr",
     "output_type": "stream",
     "text": [
      "/opt/conda/lib/python3.7/site-packages/seaborn/_decorators.py:43: FutureWarning: Pass the following variable as a keyword arg: x. From version 0.12, the only valid positional argument will be `data`, and passing other arguments without an explicit keyword will result in an error or misinterpretation.\n",
      "  FutureWarning\n"
     ]
    },
    {
     "data": {
      "image/png": "[encoded data removed]",
      "text/plain": [
       "<Figure size 432x288 with 1 Axes>"
      ]
     },
     "metadata": {
      "needs_background": "light"
     },
     "output_type": "display_data"
    }
   ],
   "source": [
    "sns.countplot(tweets_df['label'], label = \"Count\") \n",
    "plt.show()"
   ]
  },
  {
   "cell_type": "code",
   "execution_count": 11,
   "metadata": {
    "execution": {
     "iopub.execute_input": "2022-02-27T16:21:50.305766Z",
     "iopub.status.busy": "2022-02-27T16:21:50.296259Z",
     "iopub.status.idle": "2022-02-27T16:21:50.641692Z",
     "shell.execute_reply": "2022-02-27T16:21:50.641117Z",
     "shell.execute_reply.started": "2022-02-27T15:42:55.910838Z"
    },
    "papermill": {
     "duration": 0.392732,
     "end_time": "2022-02-27T16:21:50.641845",
     "exception": false,
     "start_time": "2022-02-27T16:21:50.249113",
     "status": "completed"
    },
    "tags": []
   },
   "outputs": [
    {
     "data": {
      "image/png": "[encoded data removed]",
      "text/plain": [
       "<Figure size 432x288 with 1 Axes>"
      ]
     },
     "metadata": {
      "needs_background": "light"
     },
     "output_type": "display_data"
    }
   ],
   "source": [
    "# Let's get the length of the messages\n",
    "tweets_df['length']=tweets_df['tweet'].apply(len)\n",
    "\n",
    "tweets_df['length'].plot(bins=100, kind='hist') \n",
    "plt.show()"
   ]
  },
  {
   "cell_type": "code",
   "execution_count": 12,
   "metadata": {
    "execution": {
     "iopub.execute_input": "2022-02-27T16:21:50.730724Z",
     "iopub.status.busy": "2022-02-27T16:21:50.729949Z",
     "iopub.status.idle": "2022-02-27T16:21:50.745941Z",
     "shell.execute_reply": "2022-02-27T16:21:50.746435Z",
     "shell.execute_reply.started": "2022-02-27T15:43:06.33634Z"
    },
    "papermill": {
     "duration": 0.063307,
     "end_time": "2022-02-27T16:21:50.746624",
     "exception": false,
     "start_time": "2022-02-27T16:21:50.683317",
     "status": "completed"
    },
    "tags": []
   },
   "outputs": [
    {
     "data": {
      "text/html": [
       "<div>\n",
       "<style scoped>\n",
       "    .dataframe tbody tr th:only-of-type {\n",
       "        vertical-align: middle;\n",
       "    }\n",
       "\n",
       "    .dataframe tbody tr th {\n",
       "        vertical-align: top;\n",
       "    }\n",
       "\n",
       "    .dataframe thead th {\n",
       "        text-align: right;\n",
       "    }\n",
       "</style>\n",
       "<table border=\"1\" class=\"dataframe\">\n",
       "  <thead>\n",
       "    <tr style=\"text-align: right;\">\n",
       "      <th></th>\n",
       "      <th>label</th>\n",
       "      <th>length</th>\n",
       "    </tr>\n",
       "  </thead>\n",
       "  <tbody>\n",
       "    <tr>\n",
       "      <th>count</th>\n",
       "      <td>31962.000000</td>\n",
       "      <td>31962.000000</td>\n",
       "    </tr>\n",
       "    <tr>\n",
       "      <th>mean</th>\n",
       "      <td>0.070146</td>\n",
       "      <td>84.739628</td>\n",
       "    </tr>\n",
       "    <tr>\n",
       "      <th>std</th>\n",
       "      <td>0.255397</td>\n",
       "      <td>29.455749</td>\n",
       "    </tr>\n",
       "    <tr>\n",
       "      <th>min</th>\n",
       "      <td>0.000000</td>\n",
       "      <td>11.000000</td>\n",
       "    </tr>\n",
       "    <tr>\n",
       "      <th>25%</th>\n",
       "      <td>0.000000</td>\n",
       "      <td>63.000000</td>\n",
       "    </tr>\n",
       "    <tr>\n",
       "      <th>50%</th>\n",
       "      <td>0.000000</td>\n",
       "      <td>88.000000</td>\n",
       "    </tr>\n",
       "    <tr>\n",
       "      <th>75%</th>\n",
       "      <td>0.000000</td>\n",
       "      <td>108.000000</td>\n",
       "    </tr>\n",
       "    <tr>\n",
       "      <th>max</th>\n",
       "      <td>1.000000</td>\n",
       "      <td>274.000000</td>\n",
       "    </tr>\n",
       "  </tbody>\n",
       "</table>\n",
       "</div>"
      ],
      "text/plain": [
       "              label        length\n",
       "count  31962.000000  31962.000000\n",
       "mean       0.070146     84.739628\n",
       "std        0.255397     29.455749\n",
       "min        0.000000     11.000000\n",
       "25%        0.000000     63.000000\n",
       "50%        0.000000     88.000000\n",
       "75%        0.000000    108.000000\n",
       "max        1.000000    274.000000"
      ]
     },
     "execution_count": 12,
     "metadata": {},
     "output_type": "execute_result"
    }
   ],
   "source": [
    "tweets_df.describe()"
   ]
  },
  {
   "cell_type": "code",
   "execution_count": 13,
   "metadata": {
    "execution": {
     "iopub.execute_input": "2022-02-27T16:21:50.832460Z",
     "iopub.status.busy": "2022-02-27T16:21:50.831701Z",
     "iopub.status.idle": "2022-02-27T16:21:50.838489Z",
     "shell.execute_reply": "2022-02-27T16:21:50.838951Z",
     "shell.execute_reply.started": "2022-02-27T15:43:15.744839Z"
    },
    "papermill": {
     "duration": 0.051642,
     "end_time": "2022-02-27T16:21:50.839150",
     "exception": false,
     "start_time": "2022-02-27T16:21:50.787508",
     "status": "completed"
    },
    "tags": []
   },
   "outputs": [
    {
     "data": {
      "text/plain": [
       "'i love you '"
      ]
     },
     "execution_count": 13,
     "metadata": {},
     "output_type": "execute_result"
    }
   ],
   "source": [
    "# Let's see the shortest message \n",
    "tweets_df[tweets_df['length'] == 11]['tweet'].iloc[0]"
   ]
  },
  {
   "cell_type": "code",
   "execution_count": 14,
   "metadata": {
    "execution": {
     "iopub.execute_input": "2022-02-27T16:21:50.927299Z",
     "iopub.status.busy": "2022-02-27T16:21:50.926609Z",
     "iopub.status.idle": "2022-02-27T16:21:50.933028Z",
     "shell.execute_reply": "2022-02-27T16:21:50.933625Z",
     "shell.execute_reply.started": "2022-02-27T15:43:26.891685Z"
    },
    "papermill": {
     "duration": 0.051007,
     "end_time": "2022-02-27T16:21:50.933836",
     "exception": false,
     "start_time": "2022-02-27T16:21:50.882829",
     "status": "completed"
    },
    "tags": []
   },
   "outputs": [
    {
     "data": {
      "text/plain": [
       "'my mom shares the same bihday as @user   bihday snake! see you this weekend ð\\x9f\\x99\\x8cð\\x9f\\x8f¼'"
      ]
     },
     "execution_count": 14,
     "metadata": {},
     "output_type": "execute_result"
    }
   ],
   "source": [
    "# Let's see the message with mean length \n",
    "tweets_df[tweets_df['length'] == 84]['tweet'].iloc[0]"
   ]
  },
  {
   "cell_type": "code",
   "execution_count": 15,
   "metadata": {
    "execution": {
     "iopub.execute_input": "2022-02-27T16:21:51.021023Z",
     "iopub.status.busy": "2022-02-27T16:21:51.020429Z",
     "iopub.status.idle": "2022-02-27T16:21:51.035470Z",
     "shell.execute_reply": "2022-02-27T16:21:51.035945Z",
     "shell.execute_reply.started": "2022-02-27T15:43:36.460829Z"
    },
    "papermill": {
     "duration": 0.059817,
     "end_time": "2022-02-27T16:21:51.036157",
     "exception": false,
     "start_time": "2022-02-27T16:21:50.976340",
     "status": "completed"
    },
    "tags": []
   },
   "outputs": [
    {
     "data": {
      "text/html": [
       "<div>\n",
       "<style scoped>\n",
       "    .dataframe tbody tr th:only-of-type {\n",
       "        vertical-align: middle;\n",
       "    }\n",
       "\n",
       "    .dataframe tbody tr th {\n",
       "        vertical-align: top;\n",
       "    }\n",
       "\n",
       "    .dataframe thead th {\n",
       "        text-align: right;\n",
       "    }\n",
       "</style>\n",
       "<table border=\"1\" class=\"dataframe\">\n",
       "  <thead>\n",
       "    <tr style=\"text-align: right;\">\n",
       "      <th></th>\n",
       "      <th>label</th>\n",
       "      <th>tweet</th>\n",
       "      <th>length</th>\n",
       "    </tr>\n",
       "  </thead>\n",
       "  <tbody>\n",
       "    <tr>\n",
       "      <th>0</th>\n",
       "      <td>0</td>\n",
       "      <td>@user when a father is dysfunctional and is s...</td>\n",
       "      <td>102</td>\n",
       "    </tr>\n",
       "    <tr>\n",
       "      <th>1</th>\n",
       "      <td>0</td>\n",
       "      <td>@user @user thanks for #lyft credit i can't us...</td>\n",
       "      <td>122</td>\n",
       "    </tr>\n",
       "    <tr>\n",
       "      <th>2</th>\n",
       "      <td>0</td>\n",
       "      <td>bihday your majesty</td>\n",
       "      <td>21</td>\n",
       "    </tr>\n",
       "    <tr>\n",
       "      <th>3</th>\n",
       "      <td>0</td>\n",
       "      <td>#model   i love u take with u all the time in ...</td>\n",
       "      <td>86</td>\n",
       "    </tr>\n",
       "    <tr>\n",
       "      <th>4</th>\n",
       "      <td>0</td>\n",
       "      <td>factsguide: society now    #motivation</td>\n",
       "      <td>39</td>\n",
       "    </tr>\n",
       "    <tr>\n",
       "      <th>...</th>\n",
       "      <td>...</td>\n",
       "      <td>...</td>\n",
       "      <td>...</td>\n",
       "    </tr>\n",
       "    <tr>\n",
       "      <th>31956</th>\n",
       "      <td>0</td>\n",
       "      <td>off fishing tomorrow @user carnt wait first ti...</td>\n",
       "      <td>61</td>\n",
       "    </tr>\n",
       "    <tr>\n",
       "      <th>31957</th>\n",
       "      <td>0</td>\n",
       "      <td>ate @user isz that youuu?ðððððð...</td>\n",
       "      <td>68</td>\n",
       "    </tr>\n",
       "    <tr>\n",
       "      <th>31958</th>\n",
       "      <td>0</td>\n",
       "      <td>to see nina turner on the airwaves trying to...</td>\n",
       "      <td>131</td>\n",
       "    </tr>\n",
       "    <tr>\n",
       "      <th>31959</th>\n",
       "      <td>0</td>\n",
       "      <td>listening to sad songs on a monday morning otw...</td>\n",
       "      <td>63</td>\n",
       "    </tr>\n",
       "    <tr>\n",
       "      <th>31961</th>\n",
       "      <td>0</td>\n",
       "      <td>thank you @user for you follow</td>\n",
       "      <td>32</td>\n",
       "    </tr>\n",
       "  </tbody>\n",
       "</table>\n",
       "<p>29720 rows × 3 columns</p>\n",
       "</div>"
      ],
      "text/plain": [
       "       label                                              tweet  length\n",
       "0          0   @user when a father is dysfunctional and is s...     102\n",
       "1          0  @user @user thanks for #lyft credit i can't us...     122\n",
       "2          0                                bihday your majesty      21\n",
       "3          0  #model   i love u take with u all the time in ...      86\n",
       "4          0             factsguide: society now    #motivation      39\n",
       "...      ...                                                ...     ...\n",
       "31956      0  off fishing tomorrow @user carnt wait first ti...      61\n",
       "31957      0  ate @user isz that youuu?ðððððð...      68\n",
       "31958      0    to see nina turner on the airwaves trying to...     131\n",
       "31959      0  listening to sad songs on a monday morning otw...      63\n",
       "31961      0                   thank you @user for you follow        32\n",
       "\n",
       "[29720 rows x 3 columns]"
      ]
     },
     "execution_count": 15,
     "metadata": {},
     "output_type": "execute_result"
    }
   ],
   "source": [
    "positive = tweets_df[tweets_df['label']==0]\n",
    "positive"
   ]
  },
  {
   "cell_type": "code",
   "execution_count": 16,
   "metadata": {
    "execution": {
     "iopub.execute_input": "2022-02-27T16:21:51.131635Z",
     "iopub.status.busy": "2022-02-27T16:21:51.130923Z",
     "iopub.status.idle": "2022-02-27T16:21:51.143792Z",
     "shell.execute_reply": "2022-02-27T16:21:51.143213Z",
     "shell.execute_reply.started": "2022-02-27T15:43:50.737725Z"
    },
    "papermill": {
     "duration": 0.064937,
     "end_time": "2022-02-27T16:21:51.143941",
     "exception": false,
     "start_time": "2022-02-27T16:21:51.079004",
     "status": "completed"
    },
    "tags": []
   },
   "outputs": [
    {
     "data": {
      "text/html": [
       "<div>\n",
       "<style scoped>\n",
       "    .dataframe tbody tr th:only-of-type {\n",
       "        vertical-align: middle;\n",
       "    }\n",
       "\n",
       "    .dataframe tbody tr th {\n",
       "        vertical-align: top;\n",
       "    }\n",
       "\n",
       "    .dataframe thead th {\n",
       "        text-align: right;\n",
       "    }\n",
       "</style>\n",
       "<table border=\"1\" class=\"dataframe\">\n",
       "  <thead>\n",
       "    <tr style=\"text-align: right;\">\n",
       "      <th></th>\n",
       "      <th>label</th>\n",
       "      <th>tweet</th>\n",
       "      <th>length</th>\n",
       "    </tr>\n",
       "  </thead>\n",
       "  <tbody>\n",
       "    <tr>\n",
       "      <th>13</th>\n",
       "      <td>1</td>\n",
       "      <td>@user #cnn calls #michigan middle school 'buil...</td>\n",
       "      <td>74</td>\n",
       "    </tr>\n",
       "    <tr>\n",
       "      <th>14</th>\n",
       "      <td>1</td>\n",
       "      <td>no comment!  in #australia   #opkillingbay #se...</td>\n",
       "      <td>101</td>\n",
       "    </tr>\n",
       "    <tr>\n",
       "      <th>17</th>\n",
       "      <td>1</td>\n",
       "      <td>retweet if you agree!</td>\n",
       "      <td>22</td>\n",
       "    </tr>\n",
       "    <tr>\n",
       "      <th>23</th>\n",
       "      <td>1</td>\n",
       "      <td>@user @user lumpy says i am a . prove it lumpy.</td>\n",
       "      <td>47</td>\n",
       "    </tr>\n",
       "    <tr>\n",
       "      <th>34</th>\n",
       "      <td>1</td>\n",
       "      <td>it's unbelievable that in the 21st century we'...</td>\n",
       "      <td>104</td>\n",
       "    </tr>\n",
       "    <tr>\n",
       "      <th>...</th>\n",
       "      <td>...</td>\n",
       "      <td>...</td>\n",
       "      <td>...</td>\n",
       "    </tr>\n",
       "    <tr>\n",
       "      <th>31934</th>\n",
       "      <td>1</td>\n",
       "      <td>lady banned from kentucky mall. @user  #jcpenn...</td>\n",
       "      <td>59</td>\n",
       "    </tr>\n",
       "    <tr>\n",
       "      <th>31946</th>\n",
       "      <td>1</td>\n",
       "      <td>@user omfg i'm offended! i'm a  mailbox and i'...</td>\n",
       "      <td>82</td>\n",
       "    </tr>\n",
       "    <tr>\n",
       "      <th>31947</th>\n",
       "      <td>1</td>\n",
       "      <td>@user @user you don't have the balls to hashta...</td>\n",
       "      <td>112</td>\n",
       "    </tr>\n",
       "    <tr>\n",
       "      <th>31948</th>\n",
       "      <td>1</td>\n",
       "      <td>makes you ask yourself, who am i? then am i a...</td>\n",
       "      <td>87</td>\n",
       "    </tr>\n",
       "    <tr>\n",
       "      <th>31960</th>\n",
       "      <td>1</td>\n",
       "      <td>@user #sikh #temple vandalised in in #calgary,...</td>\n",
       "      <td>67</td>\n",
       "    </tr>\n",
       "  </tbody>\n",
       "</table>\n",
       "<p>2242 rows × 3 columns</p>\n",
       "</div>"
      ],
      "text/plain": [
       "       label                                              tweet  length\n",
       "13         1  @user #cnn calls #michigan middle school 'buil...      74\n",
       "14         1  no comment!  in #australia   #opkillingbay #se...     101\n",
       "17         1                             retweet if you agree!       22\n",
       "23         1    @user @user lumpy says i am a . prove it lumpy.      47\n",
       "34         1  it's unbelievable that in the 21st century we'...     104\n",
       "...      ...                                                ...     ...\n",
       "31934      1  lady banned from kentucky mall. @user  #jcpenn...      59\n",
       "31946      1  @user omfg i'm offended! i'm a  mailbox and i'...      82\n",
       "31947      1  @user @user you don't have the balls to hashta...     112\n",
       "31948      1   makes you ask yourself, who am i? then am i a...      87\n",
       "31960      1  @user #sikh #temple vandalised in in #calgary,...      67\n",
       "\n",
       "[2242 rows x 3 columns]"
      ]
     },
     "execution_count": 16,
     "metadata": {},
     "output_type": "execute_result"
    }
   ],
   "source": [
    "negative = tweets_df[tweets_df['label']==1]\n",
    "negative"
   ]
  },
  {
   "cell_type": "markdown",
   "metadata": {
    "papermill": {
     "duration": 0.043717,
     "end_time": "2022-02-27T16:21:51.230425",
     "exception": false,
     "start_time": "2022-02-27T16:21:51.186708",
     "status": "completed"
    },
    "tags": []
   },
   "source": [
    "# Perform Data Cleaning-I (Remove Punctuations)"
   ]
  },
  {
   "cell_type": "code",
   "execution_count": 17,
   "metadata": {
    "execution": {
     "iopub.execute_input": "2022-02-27T16:21:51.321362Z",
     "iopub.status.busy": "2022-02-27T16:21:51.320677Z",
     "iopub.status.idle": "2022-02-27T16:21:51.323197Z",
     "shell.execute_reply": "2022-02-27T16:21:51.323635Z",
     "shell.execute_reply.started": "2022-02-27T15:45:11.530841Z"
    },
    "papermill": {
     "duration": 0.05081,
     "end_time": "2022-02-27T16:21:51.323818",
     "exception": false,
     "start_time": "2022-02-27T16:21:51.273008",
     "status": "completed"
    },
    "tags": []
   },
   "outputs": [
    {
     "data": {
      "text/plain": [
       "'!\"#$%&\\'()*+,-./:;<=>?@[\\\\]^_`{|}~'"
      ]
     },
     "execution_count": 17,
     "metadata": {},
     "output_type": "execute_result"
    }
   ],
   "source": [
    "import string\n",
    "string.punctuation"
   ]
  },
  {
   "cell_type": "code",
   "execution_count": 18,
   "metadata": {
    "execution": {
     "iopub.execute_input": "2022-02-27T16:21:51.412483Z",
     "iopub.status.busy": "2022-02-27T16:21:51.411777Z",
     "iopub.status.idle": "2022-02-27T16:21:51.417162Z",
     "shell.execute_reply": "2022-02-27T16:21:51.417670Z",
     "shell.execute_reply.started": "2022-02-27T15:45:40.450377Z"
    },
    "papermill": {
     "duration": 0.051494,
     "end_time": "2022-02-27T16:21:51.417852",
     "exception": false,
     "start_time": "2022-02-27T16:21:51.366358",
     "status": "completed"
    },
    "tags": []
   },
   "outputs": [
    {
     "data": {
      "text/plain": [
       "'G o o d   m o r n i n g   b e a u t i f u l   p e o p l e     I   a m   h a v i n g   f u n   l e a r n i n g   M a c h i n e   l e a r n i n g   a n d   A I'"
      ]
     },
     "execution_count": 18,
     "metadata": {},
     "output_type": "execute_result"
    }
   ],
   "source": [
    "Test = 'Good morning beautiful people :)... I am having fun learning Machine learning and AI!!'\n",
    "Test_punc_removed=[char for char in Test if char not in string.punctuation]\n",
    "\n",
    "# Join the characters again to form the string.\n",
    "Test_punc_removed_join=' '.join(Test_punc_removed)\n",
    "Test_punc_removed_join"
   ]
  },
  {
   "cell_type": "code",
   "execution_count": 19,
   "metadata": {
    "execution": {
     "iopub.execute_input": "2022-02-27T16:21:51.509997Z",
     "iopub.status.busy": "2022-02-27T16:21:51.509366Z",
     "iopub.status.idle": "2022-02-27T16:21:51.515480Z",
     "shell.execute_reply": "2022-02-27T16:21:51.515951Z",
     "shell.execute_reply.started": "2022-02-27T15:45:50.554356Z"
    },
    "papermill": {
     "duration": 0.054313,
     "end_time": "2022-02-27T16:21:51.516151",
     "exception": false,
     "start_time": "2022-02-27T16:21:51.461838",
     "status": "completed"
    },
    "tags": []
   },
   "outputs": [
    {
     "data": {
      "text/plain": [
       "'Good morning beautiful people  I am having fun learning Machine learning and AI'"
      ]
     },
     "execution_count": 19,
     "metadata": {},
     "output_type": "execute_result"
    }
   ],
   "source": [
    "Test_punc_removed = []\n",
    "for char in Test: \n",
    "    if char not in string.punctuation:\n",
    "        Test_punc_removed.append(char)\n",
    "        \n",
    "# Join the characters again to form the string.\n",
    "Test_punc_removed_join = ''.join(Test_punc_removed)\n",
    "Test_punc_removed_join"
   ]
  },
  {
   "cell_type": "markdown",
   "metadata": {
    "papermill": {
     "duration": 0.043692,
     "end_time": "2022-02-27T16:21:51.604774",
     "exception": false,
     "start_time": "2022-02-27T16:21:51.561082",
     "status": "completed"
    },
    "tags": []
   },
   "source": [
    "# Perform Data Cleaning-II (Remove Stop Words)"
   ]
  },
  {
   "cell_type": "code",
   "execution_count": 20,
   "metadata": {
    "execution": {
     "iopub.execute_input": "2022-02-27T16:21:51.697217Z",
     "iopub.status.busy": "2022-02-27T16:21:51.696514Z",
     "iopub.status.idle": "2022-02-27T16:21:51.709561Z",
     "shell.execute_reply": "2022-02-27T16:21:51.710032Z",
     "shell.execute_reply.started": "2022-02-27T15:47:00.443311Z"
    },
    "papermill": {
     "duration": 0.062029,
     "end_time": "2022-02-27T16:21:51.710247",
     "exception": false,
     "start_time": "2022-02-27T16:21:51.648218",
     "status": "completed"
    },
    "tags": []
   },
   "outputs": [
    {
     "data": {
      "text/plain": [
       "['i',\n",
       " 'me',\n",
       " 'my',\n",
       " 'myself',\n",
       " 'we',\n",
       " 'our',\n",
       " 'ours',\n",
       " 'ourselves',\n",
       " 'you',\n",
       " \"you're\",\n",
       " \"you've\",\n",
       " \"you'll\",\n",
       " \"you'd\",\n",
       " 'your',\n",
       " 'yours',\n",
       " 'yourself',\n",
       " 'yourselves',\n",
       " 'he',\n",
       " 'him',\n",
       " 'his',\n",
       " 'himself',\n",
       " 'she',\n",
       " \"she's\",\n",
       " 'her',\n",
       " 'hers',\n",
       " 'herself',\n",
       " 'it',\n",
       " \"it's\",\n",
       " 'its',\n",
       " 'itself',\n",
       " 'they',\n",
       " 'them',\n",
       " 'their',\n",
       " 'theirs',\n",
       " 'themselves',\n",
       " 'what',\n",
       " 'which',\n",
       " 'who',\n",
       " 'whom',\n",
       " 'this',\n",
       " 'that',\n",
       " \"that'll\",\n",
       " 'these',\n",
       " 'those',\n",
       " 'am',\n",
       " 'is',\n",
       " 'are',\n",
       " 'was',\n",
       " 'were',\n",
       " 'be',\n",
       " 'been',\n",
       " 'being',\n",
       " 'have',\n",
       " 'has',\n",
       " 'had',\n",
       " 'having',\n",
       " 'do',\n",
       " 'does',\n",
       " 'did',\n",
       " 'doing',\n",
       " 'a',\n",
       " 'an',\n",
       " 'the',\n",
       " 'and',\n",
       " 'but',\n",
       " 'if',\n",
       " 'or',\n",
       " 'because',\n",
       " 'as',\n",
       " 'until',\n",
       " 'while',\n",
       " 'of',\n",
       " 'at',\n",
       " 'by',\n",
       " 'for',\n",
       " 'with',\n",
       " 'about',\n",
       " 'against',\n",
       " 'between',\n",
       " 'into',\n",
       " 'through',\n",
       " 'during',\n",
       " 'before',\n",
       " 'after',\n",
       " 'above',\n",
       " 'below',\n",
       " 'to',\n",
       " 'from',\n",
       " 'up',\n",
       " 'down',\n",
       " 'in',\n",
       " 'out',\n",
       " 'on',\n",
       " 'off',\n",
       " 'over',\n",
       " 'under',\n",
       " 'again',\n",
       " 'further',\n",
       " 'then',\n",
       " 'once',\n",
       " 'here',\n",
       " 'there',\n",
       " 'when',\n",
       " 'where',\n",
       " 'why',\n",
       " 'how',\n",
       " 'all',\n",
       " 'any',\n",
       " 'both',\n",
       " 'each',\n",
       " 'few',\n",
       " 'more',\n",
       " 'most',\n",
       " 'other',\n",
       " 'some',\n",
       " 'such',\n",
       " 'no',\n",
       " 'nor',\n",
       " 'not',\n",
       " 'only',\n",
       " 'own',\n",
       " 'same',\n",
       " 'so',\n",
       " 'than',\n",
       " 'too',\n",
       " 'very',\n",
       " 's',\n",
       " 't',\n",
       " 'can',\n",
       " 'will',\n",
       " 'just',\n",
       " 'don',\n",
       " \"don't\",\n",
       " 'should',\n",
       " \"should've\",\n",
       " 'now',\n",
       " 'd',\n",
       " 'll',\n",
       " 'm',\n",
       " 'o',\n",
       " 're',\n",
       " 've',\n",
       " 'y',\n",
       " 'ain',\n",
       " 'aren',\n",
       " \"aren't\",\n",
       " 'couldn',\n",
       " \"couldn't\",\n",
       " 'didn',\n",
       " \"didn't\",\n",
       " 'doesn',\n",
       " \"doesn't\",\n",
       " 'hadn',\n",
       " \"hadn't\",\n",
       " 'hasn',\n",
       " \"hasn't\",\n",
       " 'haven',\n",
       " \"haven't\",\n",
       " 'isn',\n",
       " \"isn't\",\n",
       " 'ma',\n",
       " 'mightn',\n",
       " \"mightn't\",\n",
       " 'mustn',\n",
       " \"mustn't\",\n",
       " 'needn',\n",
       " \"needn't\",\n",
       " 'shan',\n",
       " \"shan't\",\n",
       " 'shouldn',\n",
       " \"shouldn't\",\n",
       " 'wasn',\n",
       " \"wasn't\",\n",
       " 'weren',\n",
       " \"weren't\",\n",
       " 'won',\n",
       " \"won't\",\n",
       " 'wouldn',\n",
       " \"wouldn't\"]"
      ]
     },
     "execution_count": 20,
     "metadata": {},
     "output_type": "execute_result"
    }
   ],
   "source": [
    "# You have to download stopwords Package to execute this command\n",
    "from nltk.corpus import stopwords\n",
    "stopwords.words('english')"
   ]
  },
  {
   "cell_type": "code",
   "execution_count": 21,
   "metadata": {
    "execution": {
     "iopub.execute_input": "2022-02-27T16:21:51.803644Z",
     "iopub.status.busy": "2022-02-27T16:21:51.802919Z",
     "iopub.status.idle": "2022-02-27T16:21:51.809052Z",
     "shell.execute_reply": "2022-02-27T16:21:51.809567Z",
     "shell.execute_reply.started": "2022-02-27T15:47:22.750873Z"
    },
    "papermill": {
     "duration": 0.055589,
     "end_time": "2022-02-27T16:21:51.809751",
     "exception": false,
     "start_time": "2022-02-27T16:21:51.754162",
     "status": "completed"
    },
    "tags": []
   },
   "outputs": [
    {
     "data": {
      "text/plain": [
       "['Good',\n",
       " 'morning',\n",
       " 'beautiful',\n",
       " 'people',\n",
       " 'fun',\n",
       " 'learning',\n",
       " 'Machine',\n",
       " 'learning',\n",
       " 'AI']"
      ]
     },
     "execution_count": 21,
     "metadata": {},
     "output_type": "execute_result"
    }
   ],
   "source": [
    "Test_punc_removed_join_clean=[word for word in Test_punc_removed_join.split()  if word.lower() not in stopwords.words('english')]\n",
    "\n",
    "Test_punc_removed_join_clean # Only important (no so common) words are left"
   ]
  },
  {
   "cell_type": "code",
   "execution_count": 22,
   "metadata": {
    "execution": {
     "iopub.execute_input": "2022-02-27T16:21:51.903377Z",
     "iopub.status.busy": "2022-02-27T16:21:51.902740Z",
     "iopub.status.idle": "2022-02-27T16:21:51.910039Z",
     "shell.execute_reply": "2022-02-27T16:21:51.910600Z",
     "shell.execute_reply.started": "2022-02-27T15:47:51.781085Z"
    },
    "papermill": {
     "duration": 0.055195,
     "end_time": "2022-02-27T16:21:51.910789",
     "exception": false,
     "start_time": "2022-02-27T16:21:51.855594",
     "status": "completed"
    },
    "tags": []
   },
   "outputs": [],
   "source": [
    "mini_challenge = 'Here is a mini challenge, that will teach you how to remove stopwords and punctuations!'\n",
    "\n",
    "challege = [ char     for char in mini_challenge  if char not in string.punctuation ]\n",
    "challenge = ''.join(challege)\n",
    "challenge = [  word for word in challenge.split() if word.lower() not in stopwords.words('english')  ] "
   ]
  },
  {
   "cell_type": "markdown",
   "metadata": {
    "papermill": {
     "duration": 0.04451,
     "end_time": "2022-02-27T16:21:52.000811",
     "exception": false,
     "start_time": "2022-02-27T16:21:51.956301",
     "status": "completed"
    },
    "tags": []
   },
   "source": [
    "# Perform Count Vectorization (Tokenization)"
   ]
  },
  {
   "cell_type": "code",
   "execution_count": 23,
   "metadata": {
    "execution": {
     "iopub.execute_input": "2022-02-27T16:21:52.096334Z",
     "iopub.status.busy": "2022-02-27T16:21:52.095707Z",
     "iopub.status.idle": "2022-02-27T16:21:52.098769Z",
     "shell.execute_reply": "2022-02-27T16:21:52.099287Z",
     "shell.execute_reply.started": "2022-02-27T15:59:03.179971Z"
    },
    "papermill": {
     "duration": 0.052486,
     "end_time": "2022-02-27T16:21:52.099467",
     "exception": false,
     "start_time": "2022-02-27T16:21:52.046981",
     "status": "completed"
    },
    "tags": []
   },
   "outputs": [],
   "source": [
    "#### Tokenization is the process of converting words into numbers to represent it in the form of vector "
   ]
  },
  {
   "cell_type": "code",
   "execution_count": 24,
   "metadata": {
    "execution": {
     "iopub.execute_input": "2022-02-27T16:21:52.191849Z",
     "iopub.status.busy": "2022-02-27T16:21:52.191156Z",
     "iopub.status.idle": "2022-02-27T16:21:52.200015Z",
     "shell.execute_reply": "2022-02-27T16:21:52.200560Z",
     "shell.execute_reply.started": "2022-02-27T15:48:42.193762Z"
    },
    "papermill": {
     "duration": 0.056577,
     "end_time": "2022-02-27T16:21:52.200749",
     "exception": false,
     "start_time": "2022-02-27T16:21:52.144172",
     "status": "completed"
    },
    "tags": []
   },
   "outputs": [],
   "source": [
    "from sklearn.feature_extraction.text import CountVectorizer\n",
    "sample_data = ['This is the first paper.','This document is the second paper.','And this is the third one.','Is this the first paper?']\n",
    "\n",
    "vectorizer= CountVectorizer()\n",
    "X=vectorizer.fit_transform(sample_data)"
   ]
  },
  {
   "cell_type": "code",
   "execution_count": 25,
   "metadata": {
    "execution": {
     "iopub.execute_input": "2022-02-27T16:21:52.293420Z",
     "iopub.status.busy": "2022-02-27T16:21:52.292755Z",
     "iopub.status.idle": "2022-02-27T16:21:52.298119Z",
     "shell.execute_reply": "2022-02-27T16:21:52.298842Z",
     "shell.execute_reply.started": "2022-02-27T15:48:51.129801Z"
    },
    "papermill": {
     "duration": 0.053754,
     "end_time": "2022-02-27T16:21:52.299117",
     "exception": false,
     "start_time": "2022-02-27T16:21:52.245363",
     "status": "completed"
    },
    "tags": []
   },
   "outputs": [
    {
     "name": "stdout",
     "output_type": "stream",
     "text": [
      "['and', 'document', 'first', 'is', 'one', 'paper', 'second', 'the', 'third', 'this']\n"
     ]
    }
   ],
   "source": [
    "print(vectorizer.get_feature_names())"
   ]
  },
  {
   "cell_type": "code",
   "execution_count": 26,
   "metadata": {
    "execution": {
     "iopub.execute_input": "2022-02-27T16:21:52.395993Z",
     "iopub.status.busy": "2022-02-27T16:21:52.395373Z",
     "iopub.status.idle": "2022-02-27T16:21:52.397968Z",
     "shell.execute_reply": "2022-02-27T16:21:52.398461Z",
     "shell.execute_reply.started": "2022-02-27T15:48:57.87416Z"
    },
    "papermill": {
     "duration": 0.053626,
     "end_time": "2022-02-27T16:21:52.398644",
     "exception": false,
     "start_time": "2022-02-27T16:21:52.345018",
     "status": "completed"
    },
    "tags": []
   },
   "outputs": [
    {
     "name": "stdout",
     "output_type": "stream",
     "text": [
      "[[0 0 1 1 0 1 0 1 0 1]\n",
      " [0 1 0 1 0 1 1 1 0 1]\n",
      " [1 0 0 1 1 0 0 1 1 1]\n",
      " [0 0 1 1 0 1 0 1 0 1]]\n"
     ]
    }
   ],
   "source": [
    "print(X.toarray())"
   ]
  },
  {
   "cell_type": "code",
   "execution_count": 27,
   "metadata": {
    "execution": {
     "iopub.execute_input": "2022-02-27T16:21:52.493317Z",
     "iopub.status.busy": "2022-02-27T16:21:52.492644Z",
     "iopub.status.idle": "2022-02-27T16:21:52.498685Z",
     "shell.execute_reply": "2022-02-27T16:21:52.499175Z",
     "shell.execute_reply.started": "2022-02-27T15:49:05.965548Z"
    },
    "papermill": {
     "duration": 0.05594,
     "end_time": "2022-02-27T16:21:52.499405",
     "exception": false,
     "start_time": "2022-02-27T16:21:52.443465",
     "status": "completed"
    },
    "tags": []
   },
   "outputs": [
    {
     "name": "stdout",
     "output_type": "stream",
     "text": [
      "[[1 1]\n",
      " [2 1]\n",
      " [1 3]]\n"
     ]
    }
   ],
   "source": [
    "mini_challenge = ['Hello World','Hello Hello World','Hello World world world']\n",
    "\n",
    "vectorizer_challenge = CountVectorizer()\n",
    "X_challenge = vectorizer_challenge.fit_transform(mini_challenge)\n",
    "print(X_challenge.toarray())"
   ]
  },
  {
   "cell_type": "markdown",
   "metadata": {
    "papermill": {
     "duration": 0.044531,
     "end_time": "2022-02-27T16:21:52.589992",
     "exception": false,
     "start_time": "2022-02-27T16:21:52.545461",
     "status": "completed"
    },
    "tags": []
   },
   "source": [
    "# Creating a Pipeline to Remove Punctuations, Stop words & Perform Tokenization"
   ]
  },
  {
   "cell_type": "code",
   "execution_count": 28,
   "metadata": {
    "execution": {
     "iopub.execute_input": "2022-02-27T16:21:52.685176Z",
     "iopub.status.busy": "2022-02-27T16:21:52.684582Z",
     "iopub.status.idle": "2022-02-27T16:21:52.689421Z",
     "shell.execute_reply": "2022-02-27T16:21:52.689859Z",
     "shell.execute_reply.started": "2022-02-27T15:51:21.558763Z"
    },
    "papermill": {
     "duration": 0.052971,
     "end_time": "2022-02-27T16:21:52.690037",
     "exception": false,
     "start_time": "2022-02-27T16:21:52.637066",
     "status": "completed"
    },
    "tags": []
   },
   "outputs": [],
   "source": [
    "# Let's define a pipeline to clean up all the messages \n",
    "# The pipeline performs the following: (1) remove punctuation, (2) remove stopwords\n",
    "\n",
    "def message_cleaning(message):\n",
    "    Test_punc_removed = [char for char in message if char not in string.punctuation]\n",
    "    Test_punc_removed_join = ''.join(Test_punc_removed)\n",
    "    Test_punc_removed_join_clean = [word for word in Test_punc_removed_join.split() if word.lower() not in stopwords.words('english')]\n",
    "    return Test_punc_removed_join_clean"
   ]
  },
  {
   "cell_type": "code",
   "execution_count": 29,
   "metadata": {
    "execution": {
     "iopub.execute_input": "2022-02-27T16:21:52.784145Z",
     "iopub.status.busy": "2022-02-27T16:21:52.783504Z",
     "iopub.status.idle": "2022-02-27T16:22:41.112925Z",
     "shell.execute_reply": "2022-02-27T16:22:41.113712Z",
     "shell.execute_reply.started": "2022-02-27T15:52:48.992005Z"
    },
    "papermill": {
     "duration": 48.378352,
     "end_time": "2022-02-27T16:22:41.113987",
     "exception": false,
     "start_time": "2022-02-27T16:21:52.735635",
     "status": "completed"
    },
    "tags": []
   },
   "outputs": [
    {
     "name": "stdout",
     "output_type": "stream",
     "text": [
      "['22', 'huge', 'fan', 'fare', 'big', 'talking', 'leave', 'chaos', 'pay', 'disputes', 'get', 'allshowandnogo']\n"
     ]
    }
   ],
   "source": [
    "# Let's test the newly added function\n",
    "tweets_df_clean = tweets_df['tweet'].apply(message_cleaning)\n",
    "\n",
    "print(tweets_df_clean[5]) # show the cleaned up version"
   ]
  },
  {
   "cell_type": "code",
   "execution_count": 30,
   "metadata": {
    "execution": {
     "iopub.execute_input": "2022-02-27T16:22:41.215316Z",
     "iopub.status.busy": "2022-02-27T16:22:41.214619Z",
     "iopub.status.idle": "2022-02-27T16:22:41.219361Z",
     "shell.execute_reply": "2022-02-27T16:22:41.219828Z",
     "shell.execute_reply.started": "2022-02-27T15:54:36.806283Z"
    },
    "papermill": {
     "duration": 0.054764,
     "end_time": "2022-02-27T16:22:41.220012",
     "exception": false,
     "start_time": "2022-02-27T16:22:41.165248",
     "status": "completed"
    },
    "tags": []
   },
   "outputs": [
    {
     "name": "stdout",
     "output_type": "stream",
     "text": [
      "[2/2] huge fan fare and big talking before they leave. chaos and pay disputes when they get there. #allshowandnogo  \n"
     ]
    }
   ],
   "source": [
    "print(tweets_df['tweet'][5]) # show the original version"
   ]
  },
  {
   "cell_type": "code",
   "execution_count": 31,
   "metadata": {
    "execution": {
     "iopub.execute_input": "2022-02-27T16:22:41.318220Z",
     "iopub.status.busy": "2022-02-27T16:22:41.317512Z",
     "iopub.status.idle": "2022-02-27T16:23:30.242486Z",
     "shell.execute_reply": "2022-02-27T16:23:30.241842Z",
     "shell.execute_reply.started": "2022-02-27T15:54:39.750304Z"
    },
    "papermill": {
     "duration": 48.973734,
     "end_time": "2022-02-27T16:23:30.242641",
     "exception": false,
     "start_time": "2022-02-27T16:22:41.268907",
     "status": "completed"
    },
    "tags": []
   },
   "outputs": [],
   "source": [
    "from sklearn.feature_extraction.text import CountVectorizer\n",
    "\n",
    "# Define the cleaning pipeline we defined earlier\n",
    "vectorizer = CountVectorizer(analyzer = message_cleaning, dtype = np.uint8)\n",
    "tweets_countvectorizer = vectorizer.fit_transform(tweets_df['tweet'])"
   ]
  },
  {
   "cell_type": "code",
   "execution_count": 32,
   "metadata": {
    "execution": {
     "iopub.execute_input": "2022-02-27T16:23:30.395688Z",
     "iopub.status.busy": "2022-02-27T16:23:30.394674Z",
     "iopub.status.idle": "2022-02-27T16:23:30.398870Z",
     "shell.execute_reply": "2022-02-27T16:23:30.399363Z",
     "shell.execute_reply.started": "2022-02-27T15:56:53.341828Z"
    },
    "papermill": {
     "duration": 0.110432,
     "end_time": "2022-02-27T16:23:30.399555",
     "exception": false,
     "start_time": "2022-02-27T16:23:30.289123",
     "status": "completed"
    },
    "tags": []
   },
   "outputs": [
    {
     "data": {
      "text/plain": [
       "['0',\n",
       " '0000001',\n",
       " '00027',\n",
       " '001',\n",
       " '0035',\n",
       " '00h30',\n",
       " '01',\n",
       " '0115',\n",
       " '0161',\n",
       " '019',\n",
       " '01926889917',\n",
       " '02',\n",
       " '0265',\n",
       " '0266808099',\n",
       " '02900',\n",
       " '03',\n",
       " '030916',\n",
       " '03111880779',\n",
       " '032',\n",
       " '033',\n",
       " '0345',\n",
       " '039',\n",
       " '04',\n",
       " '045',\n",
       " '04k',\n",
       " '05',\n",
       " '0506823156',\n",
       " '06',\n",
       " '06052016',\n",
       " '0606',\n",
       " '060616',\n",
       " '0608',\n",
       " '0608wed',\n",
       " '0609',\n",
       " '0610',\n",
       " '061116',\n",
       " '0612',\n",
       " '0613',\n",
       " '0616',\n",
       " '0617',\n",
       " '0618',\n",
       " '0618saturday7monthscouple',\n",
       " '0618â\\x99¡',\n",
       " '0620',\n",
       " '06202016',\n",
       " '0622',\n",
       " '0624',\n",
       " '06Â',\n",
       " '07',\n",
       " '07000',\n",
       " '07040',\n",
       " '07044',\n",
       " '07150',\n",
       " '07190',\n",
       " '07400',\n",
       " '07468',\n",
       " '07500',\n",
       " '076',\n",
       " '07788427999',\n",
       " '07800',\n",
       " '07840',\n",
       " '07850',\n",
       " '07870',\n",
       " '07900',\n",
       " '07930',\n",
       " '07950',\n",
       " '08',\n",
       " '0806',\n",
       " '080616',\n",
       " '088b',\n",
       " '08â\\x80¦',\n",
       " '09',\n",
       " '09062016',\n",
       " '0933m',\n",
       " '09600',\n",
       " '0k',\n",
       " '0shares',\n",
       " '0tolerancemovie',\n",
       " '0ð\\x9f\\x98¥â\\x98¹ï¸\\x8f',\n",
       " '1',\n",
       " '10',\n",
       " '100',\n",
       " '1000',\n",
       " '100000',\n",
       " '10003',\n",
       " '10007',\n",
       " '1000gifts',\n",
       " '1000th',\n",
       " '1000x',\n",
       " '1000yr',\n",
       " '1000â\\x82¬',\n",
       " '1001',\n",
       " '1001000s',\n",
       " '10014',\n",
       " '10021',\n",
       " '10025',\n",
       " '10040',\n",
       " '100616',\n",
       " '10064',\n",
       " '100d',\n",
       " '100daysofcode',\n",
       " '100daysofpigpaintings',\n",
       " '100daysoftea',\n",
       " '100faces',\n",
       " '100happydays',\n",
       " '100happydaysâ\\x80¦',\n",
       " '100happysongs',\n",
       " '100juiceð\\x9f\\x8d\\x8dð\\x9f\\x8d\\x93ð\\x9f\\x8d\\x87ð\\x9f\\x8d\\x92ð\\x9f\\x8d\\x91ð\\x9f\\x8d\\x8b',\n",
       " '100k',\n",
       " '100ml',\n",
       " '100pm',\n",
       " '100yr',\n",
       " '100â\\x80\\x99s',\n",
       " '101',\n",
       " '10125',\n",
       " '1014',\n",
       " '10143hr',\n",
       " '1015',\n",
       " '1017',\n",
       " '1019',\n",
       " '101dalmatians',\n",
       " '101daysofsmiles',\n",
       " '101ð\\x9f\\x98\\x89ð\\x9f\\x98\\x89ð\\x9f\\x8e\\x89ð\\x9f\\x8e\\x89ð\\x9f\\x92¥ð\\x9f\\x92¥',\n",
       " '1027',\n",
       " '102816',\n",
       " '102pm',\n",
       " '1030',\n",
       " '10353',\n",
       " '104',\n",
       " '1044',\n",
       " '10450',\n",
       " '10480',\n",
       " '10550',\n",
       " '1059am',\n",
       " '105kg',\n",
       " '106',\n",
       " '10650',\n",
       " '10670',\n",
       " '1070',\n",
       " '10700',\n",
       " '1080',\n",
       " '10830',\n",
       " '1096',\n",
       " '10a',\n",
       " '10alltypespos',\n",
       " '10am',\n",
       " '10days',\n",
       " '10hrs',\n",
       " '10k',\n",
       " '10kday',\n",
       " '10kms',\n",
       " '10m',\n",
       " '10meses',\n",
       " '10miler',\n",
       " '10millionmiler',\n",
       " '10minmile',\n",
       " '10minutes',\n",
       " '10minutestogo',\n",
       " '10month',\n",
       " '10moreyrs',\n",
       " '10pm',\n",
       " '10ppm',\n",
       " '10s',\n",
       " '10th',\n",
       " '10x',\n",
       " '10year',\n",
       " '10yr',\n",
       " '11',\n",
       " '110',\n",
       " '11000',\n",
       " '1106',\n",
       " '110616',\n",
       " '1109',\n",
       " '1111',\n",
       " '1117',\n",
       " '11180',\n",
       " '11192016',\n",
       " '112000',\n",
       " '11230',\n",
       " '11240',\n",
       " '11250',\n",
       " '1126',\n",
       " '11270',\n",
       " '1127tn',\n",
       " '1130',\n",
       " '11300',\n",
       " '1130am',\n",
       " '1130pm',\n",
       " '11350',\n",
       " '113days',\n",
       " '114',\n",
       " '11400',\n",
       " '1145',\n",
       " '115',\n",
       " '1155',\n",
       " '115pm215pm4pm',\n",
       " '116',\n",
       " '116000',\n",
       " '1162',\n",
       " '11740',\n",
       " '118',\n",
       " '119',\n",
       " '11911',\n",
       " '11amp12',\n",
       " '11daystogo',\n",
       " '11inchlatcock',\n",
       " '11j',\n",
       " '11june2016',\n",
       " '11juneâ\\x9c\\x88ï¸\\x8f',\n",
       " '11millionsubs',\n",
       " '11pm',\n",
       " '11pt',\n",
       " '11th',\n",
       " '11thmonthsary',\n",
       " '12',\n",
       " '120',\n",
       " '1200',\n",
       " '12000',\n",
       " '1200custom',\n",
       " '1200d',\n",
       " '1206',\n",
       " '12062016',\n",
       " '121',\n",
       " '1213',\n",
       " '123',\n",
       " '12313',\n",
       " '1235',\n",
       " '123rd',\n",
       " '124',\n",
       " '125',\n",
       " '12500',\n",
       " '126',\n",
       " '1260',\n",
       " '12700',\n",
       " '12720',\n",
       " '1280',\n",
       " '12840',\n",
       " '12850',\n",
       " '129',\n",
       " '12900',\n",
       " '12952',\n",
       " '1299',\n",
       " '12daystoolong',\n",
       " '12june',\n",
       " '12k',\n",
       " '12mill',\n",
       " '12minm',\n",
       " '12months',\n",
       " '12pm',\n",
       " '12pt',\n",
       " '12th',\n",
       " '12weeksofexerciseâ\\x80¦',\n",
       " '12x12',\n",
       " '12x12best',\n",
       " '12yearold',\n",
       " '12yrs',\n",
       " '12Â',\n",
       " '13',\n",
       " '1300',\n",
       " '1301',\n",
       " '1306',\n",
       " '130616',\n",
       " '130pm',\n",
       " '1314',\n",
       " '1316',\n",
       " '1320',\n",
       " '13479',\n",
       " '1355',\n",
       " '136',\n",
       " '13615',\n",
       " '13615onedirection',\n",
       " '13671370',\n",
       " '138',\n",
       " '138k',\n",
       " '139',\n",
       " '13cabs',\n",
       " '13daystogo',\n",
       " '13hrs',\n",
       " '13percent',\n",
       " '13th',\n",
       " '13thdocumentary',\n",
       " '13yr',\n",
       " '14',\n",
       " '140',\n",
       " '1400',\n",
       " '14000',\n",
       " '1406',\n",
       " '14140',\n",
       " '1418now',\n",
       " '14200',\n",
       " '142017',\n",
       " '1426',\n",
       " '1428',\n",
       " '1430',\n",
       " '14300',\n",
       " '14330',\n",
       " '144000',\n",
       " '14440',\n",
       " '14509',\n",
       " '146',\n",
       " '146540383315',\n",
       " '146548350793',\n",
       " '146549118088',\n",
       " '146551855923',\n",
       " '14655211716',\n",
       " '146553966006',\n",
       " '146559416364',\n",
       " '146561573275',\n",
       " '146562489121',\n",
       " '146566806708',\n",
       " '146566878899',\n",
       " '14657299921',\n",
       " '146574845042',\n",
       " '146587684966',\n",
       " '146601580087',\n",
       " '146604726015',\n",
       " '146611754356',\n",
       " '146613099097',\n",
       " '146613148779',\n",
       " '146614684803',\n",
       " '146616195126',\n",
       " '146625485594',\n",
       " '146625748002',\n",
       " '146627813527',\n",
       " '146631675197',\n",
       " '146631964117',\n",
       " '146632324152',\n",
       " '146635635817',\n",
       " '146635779606',\n",
       " '146636043542',\n",
       " '146638873624',\n",
       " '147',\n",
       " '148',\n",
       " '149',\n",
       " '1499',\n",
       " '14days',\n",
       " '14june',\n",
       " '14m',\n",
       " '14oh',\n",
       " '14th',\n",
       " '14th15th16th',\n",
       " '14Â°',\n",
       " '15',\n",
       " '150',\n",
       " '1500',\n",
       " '15000',\n",
       " '150202',\n",
       " '150516',\n",
       " '150616',\n",
       " '150kg',\n",
       " '151',\n",
       " '15100',\n",
       " '1512',\n",
       " '1515',\n",
       " '1530',\n",
       " '1535',\n",
       " '1537',\n",
       " '154',\n",
       " '155am',\n",
       " '157',\n",
       " '158lbsâ\\x80¦',\n",
       " '1592',\n",
       " '15egsc',\n",
       " '15hr',\n",
       " '15july',\n",
       " '15k',\n",
       " '15pm',\n",
       " '15th',\n",
       " '15thcentury',\n",
       " '16',\n",
       " '160',\n",
       " '1600',\n",
       " '16026',\n",
       " '160327',\n",
       " '160613',\n",
       " '160616',\n",
       " '160618',\n",
       " '160619Â',\n",
       " '161366',\n",
       " '1616',\n",
       " '161618',\n",
       " '162',\n",
       " '1620',\n",
       " '1621',\n",
       " '1622',\n",
       " '1625',\n",
       " '1630',\n",
       " '1647',\n",
       " '165',\n",
       " '168',\n",
       " '169',\n",
       " '16gb',\n",
       " '16h',\n",
       " '16june',\n",
       " '16juni',\n",
       " '16mm',\n",
       " '16th',\n",
       " '16thjune',\n",
       " '16years',\n",
       " '16yo',\n",
       " '16yrs',\n",
       " '17',\n",
       " '170000',\n",
       " '1702',\n",
       " '1706',\n",
       " '17062016',\n",
       " '171',\n",
       " '171120144256px',\n",
       " '1719',\n",
       " '1730',\n",
       " '1744',\n",
       " '17500',\n",
       " '177',\n",
       " '178',\n",
       " '179k',\n",
       " '17june',\n",
       " '17th',\n",
       " '17weeks',\n",
       " '17yo',\n",
       " '18',\n",
       " '180',\n",
       " '1800',\n",
       " '1800gotjunk',\n",
       " '1800s',\n",
       " '1800tofli',\n",
       " '18031882',\n",
       " '1806',\n",
       " '180616',\n",
       " '1812',\n",
       " '1819',\n",
       " '182',\n",
       " '1824',\n",
       " '1826',\n",
       " '184',\n",
       " '1848',\n",
       " '1855',\n",
       " '187',\n",
       " '18hourheels',\n",
       " '18june2016rainstaedeveningsky',\n",
       " '18mm',\n",
       " '18mth',\n",
       " '18th',\n",
       " '18thâ\\x80¦',\n",
       " '18x24',\n",
       " '18yearold',\n",
       " '18yearsold',\n",
       " '19',\n",
       " '1900',\n",
       " '19000',\n",
       " '19062016',\n",
       " '1908',\n",
       " '190k',\n",
       " '19261962',\n",
       " '192chandragupta',\n",
       " '1930',\n",
       " '1930s',\n",
       " '19332016',\n",
       " '194050',\n",
       " '194244',\n",
       " '195',\n",
       " '1950s',\n",
       " '1956',\n",
       " '195daystogo',\n",
       " '195k',\n",
       " '1960',\n",
       " '1960s',\n",
       " '19632015',\n",
       " '1964',\n",
       " '1966',\n",
       " '1967',\n",
       " '1968',\n",
       " '1975',\n",
       " '1976',\n",
       " '1977',\n",
       " '1980s',\n",
       " '1981',\n",
       " '1982',\n",
       " '1983',\n",
       " '1984',\n",
       " '1987',\n",
       " '1989',\n",
       " '1992',\n",
       " '1994',\n",
       " '1995',\n",
       " '1995now',\n",
       " '1995â\\x80¦',\n",
       " '1996',\n",
       " '1997',\n",
       " '1998',\n",
       " '199802',\n",
       " '1999',\n",
       " '19days',\n",
       " '19th',\n",
       " '19yr',\n",
       " '19â\\x80¦',\n",
       " '1a',\n",
       " '1afilm',\n",
       " '1am',\n",
       " '1amp2',\n",
       " '1aÃ±o',\n",
       " '1d',\n",
       " '1dadloveyouinstalikeinstadailyinstamoodð\\x9f\\x91¸ð\\x9f\\x91¸ð\\x9f\\x91¸ð\\x9f\\x91¸ð\\x9f\\x91¸ð\\x9f\\x98\\x8dð\\x9f\\x98\\x8dð\\x9f\\x98\\x8dð\\x9f\\x98\\x8dð\\x9f\\x92\\x99ð\\x9f\\x92\\x99ð\\x9f\\x92\\x99â\\x9c\\x94',\n",
       " '1day',\n",
       " '1dayleft',\n",
       " '1dbetweenus',\n",
       " '1depaure',\n",
       " '1dfana',\n",
       " '1dspecials',\n",
       " '1ea',\n",
       " '1gabba',\n",
       " '1gaâ\\x80¦',\n",
       " '1gâ\\x80¦',\n",
       " '1hitmusicstation',\n",
       " '1hr',\n",
       " '1in5',\n",
       " '1k',\n",
       " '1l',\n",
       " '1linewed',\n",
       " '1love',\n",
       " '1m25s',\n",
       " '1monh',\n",
       " '1month',\n",
       " '1monthtogo',\n",
       " '1more',\n",
       " '1night',\n",
       " '1of',\n",
       " '1pm',\n",
       " '1pun',\n",
       " '1q',\n",
       " '1s',\n",
       " '1st',\n",
       " '1stactivity',\n",
       " '1stammendment',\n",
       " '1stgame',\n",
       " '1struggle',\n",
       " '1stsoloalbum',\n",
       " '1stsoloalbumleejonghyun',\n",
       " '1sttime',\n",
       " '1stvoteever',\n",
       " '1week3days',\n",
       " '1weektogo',\n",
       " '1world',\n",
       " '1year',\n",
       " '1year3monthsâ\\x80¦',\n",
       " '1yearagâ\\x80¦',\n",
       " '1yf',\n",
       " '1yr',\n",
       " '1ð\\x9f\\x98\\x82ð\\x9f\\x98\\x82',\n",
       " '2',\n",
       " '20',\n",
       " '200',\n",
       " '2000',\n",
       " '20000',\n",
       " '2001',\n",
       " '2002',\n",
       " '2005',\n",
       " '2006',\n",
       " '2008',\n",
       " '200k',\n",
       " '200m',\n",
       " '200yrs',\n",
       " '2010',\n",
       " '2011',\n",
       " '2012',\n",
       " '2013',\n",
       " '2014',\n",
       " '20141023',\n",
       " '2015',\n",
       " '20150505',\n",
       " '201516',\n",
       " '2016',\n",
       " '20160611ktydbbqincidentlolenjoy',\n",
       " '20160612',\n",
       " '2016061220160618',\n",
       " '201606190619sunday',\n",
       " '201617',\n",
       " '20162017',\n",
       " '20162017mufc',\n",
       " '2016busy',\n",
       " '2016election',\n",
       " '2016highlights',\n",
       " '2016in4words',\n",
       " '2016in4wordsâ\\x80¦',\n",
       " '2016in4wordâ\\x80¦',\n",
       " '2016in4worlds',\n",
       " '2016in4â\\x80¦',\n",
       " '2016inâ\\x80¦',\n",
       " '2016iâ\\x80¦',\n",
       " '2016macaugift',\n",
       " '2016neotour',\n",
       " '2016release',\n",
       " '2016â\\x80¦',\n",
       " '2016â\\x9d¤ï¸\\x8fð\\x9f\\x92\\x9cð\\x9f\\x92\\x9bð\\x9f\\x92\\x9a',\n",
       " '2017',\n",
       " '2017fail',\n",
       " '2017in3words',\n",
       " '2017in3wordsâ\\x80¦',\n",
       " '2017npr',\n",
       " '2017pleasecome',\n",
       " '2018',\n",
       " '201â\\x80¦',\n",
       " '2020',\n",
       " '2023',\n",
       " '2026',\n",
       " '202k',\n",
       " '2030',\n",
       " '2077',\n",
       " '2095m',\n",
       " '20cricket',\n",
       " '20days',\n",
       " '20flaglerstreet',\n",
       " '20k',\n",
       " '20km',\n",
       " '20likes',\n",
       " '20million',\n",
       " '20mins',\n",
       " '20monthsold',\n",
       " '20poundnote',\n",
       " '20th',\n",
       " '20yrs',\n",
       " '20Â°c',\n",
       " '20æ\\xad³',\n",
       " '21',\n",
       " '2100',\n",
       " '2101',\n",
       " '214lbs',\n",
       " '215pm',\n",
       " '2171m',\n",
       " '218',\n",
       " '2199mmk',\n",
       " '21century',\n",
       " '21ceâ\\x80¦',\n",
       " '21hrlater',\n",
       " '21m49s',\n",
       " '21pilots',\n",
       " '21st',\n",
       " '21thbihday',\n",
       " '21yrs',\n",
       " '21â\\x80¦',\n",
       " '21ð\\x9f\\x92\\xad',\n",
       " '22',\n",
       " '220',\n",
       " '22000',\n",
       " '22092016',\n",
       " '2210',\n",
       " '2230',\n",
       " '224209',\n",
       " '225',\n",
       " '226',\n",
       " '226m',\n",
       " '227',\n",
       " '228',\n",
       " '229',\n",
       " '229lbs',\n",
       " '22drivers',\n",
       " '22g',\n",
       " '22nd',\n",
       " '22ndbihday',\n",
       " '22ndjuly2016',\n",
       " '22ð\\x9f\\x92\\x8bð\\x9f\\x92\\x8bð\\x9f\\x92\\x8b',\n",
       " '23',\n",
       " '230',\n",
       " '230616',\n",
       " '230am',\n",
       " '230pmet',\n",
       " '2311',\n",
       " '23181573',\n",
       " '233',\n",
       " '235',\n",
       " '23hrs',\n",
       " '23m',\n",
       " '23rd',\n",
       " '23s',\n",
       " '23years',\n",
       " '23â\\x80¦',\n",
       " '24',\n",
       " '240',\n",
       " '2400',\n",
       " '240yearold',\n",
       " '241',\n",
       " '241ornothing',\n",
       " '2426',\n",
       " '247',\n",
       " '247365',\n",
       " '2475',\n",
       " '24900',\n",
       " '2499',\n",
       " '2499mkf',\n",
       " '24h',\n",
       " '24hoursinpolice',\n",
       " '24hrs',\n",
       " '24lm',\n",
       " '24pm',\n",
       " '24th',\n",
       " '24yoder',\n",
       " '24Â£10',\n",
       " '25',\n",
       " '250',\n",
       " '2500',\n",
       " '250395',\n",
       " '250days',\n",
       " '250needed',\n",
       " '257wipe',\n",
       " '2599',\n",
       " '25cricket',\n",
       " '25mm',\n",
       " '25pm',\n",
       " '25th',\n",
       " '25years',\n",
       " '25yearsstrong',\n",
       " '26',\n",
       " '2600',\n",
       " '2611',\n",
       " '2615',\n",
       " '26551',\n",
       " '26candles',\n",
       " '26th',\n",
       " '27',\n",
       " '27000',\n",
       " '273',\n",
       " '274m',\n",
       " '27th',\n",
       " '27thour',\n",
       " '28',\n",
       " '280',\n",
       " '2800',\n",
       " '289',\n",
       " '28jun',\n",
       " '28lbsdown',\n",
       " '28th',\n",
       " '28weekspregnant',\n",
       " '28yos',\n",
       " '28Ë\\x9ac',\n",
       " '29',\n",
       " '2900',\n",
       " '293',\n",
       " '294',\n",
       " '296',\n",
       " '298',\n",
       " '299',\n",
       " '29frontier',\n",
       " '29hrs',\n",
       " '29may',\n",
       " '29th',\n",
       " '29thwithrisp',\n",
       " '29weeks',\n",
       " '2a',\n",
       " '2add',\n",
       " '2adds',\n",
       " '2amp',\n",
       " '2amphalf',\n",
       " '2b',\n",
       " '2bcagency',\n",
       " '2bcâ\\x80¦',\n",
       " '2bear',\n",
       " '2c',\n",
       " '2day',\n",
       " '2dayd',\n",
       " '2days',\n",
       " '2daysleft',\n",
       " '2daywho',\n",
       " '2do',\n",
       " '2fa',\n",
       " '2greensboroaka',\n",
       " '2have2',\n",
       " '2hear',\n",
       " '2horrific',\n",
       " '2in1',\n",
       " '2ipad',\n",
       " '2k',\n",
       " '2k15',\n",
       " '2k16',\n",
       " '2k16ð\\x9f\\x8e\\x93',\n",
       " '2keep',\n",
       " '2kfollowers',\n",
       " '2lb',\n",
       " '2leaps',\n",
       " '2likes',\n",
       " '2line',\n",
       " '2miles',\n",
       " '2mill',\n",
       " '2minutebeachclean',\n",
       " '2month',\n",
       " '2more',\n",
       " '2moro',\n",
       " '2mororider',\n",
       " '2morro',\n",
       " '2morrow',\n",
       " '2most',\n",
       " '2muchpower',\n",
       " '2nd',\n",
       " '2ndamendment',\n",
       " '2ne1',\n",
       " '2night',\n",
       " '2nite',\n",
       " '2nites',\n",
       " '2of2',\n",
       " '2off',\n",
       " '2outs',\n",
       " '2pac',\n",
       " '2pearls',\n",
       " '2play',\n",
       " '2pm',\n",
       " '2pm4pm',\n",
       " '2q',\n",
       " '2raise',\n",
       " '2s',\n",
       " '2sharia',\n",
       " '2stand',\n",
       " '2tell',\n",
       " '2the',\n",
       " '2think',\n",
       " '2trains',\n",
       " '2weeks',\n",
       " '2weekstoday',\n",
       " '2wks',\n",
       " '2x04',\n",
       " '2year',\n",
       " '2yearold',\n",
       " '2years',\n",
       " '2yearsâ\\x80¦',\n",
       " '2yo',\n",
       " '2young',\n",
       " '2yr',\n",
       " '2Â',\n",
       " '2Ã\\x9704',\n",
       " '2â\\x80¦',\n",
       " '2ð\\x9f\\x93½ð\\x9f\\x91»movie',\n",
       " '3',\n",
       " '30',\n",
       " '300',\n",
       " '3000',\n",
       " '300dayshappy',\n",
       " '300k',\n",
       " '300th',\n",
       " '301',\n",
       " '302thank',\n",
       " '303gallery',\n",
       " '304',\n",
       " '304pm',\n",
       " '308',\n",
       " '30bihday',\n",
       " '30daylifechallenge',\n",
       " '30daysofbagrrys',\n",
       " '30daysofcreation',\n",
       " '30dayswild',\n",
       " '30for30',\n",
       " '30isthenew20',\n",
       " '30s',\n",
       " '30stm',\n",
       " '30th',\n",
       " '30thð\\x9f\\x91\\x91',\n",
       " '30tomorrow',\n",
       " '30year',\n",
       " '30æ\\xad³',\n",
       " '31',\n",
       " '316xnfg',\n",
       " '318',\n",
       " '319',\n",
       " '31st',\n",
       " '31today',\n",
       " '32',\n",
       " '321',\n",
       " '3226m',\n",
       " '3236b',\n",
       " '327',\n",
       " '3271',\n",
       " '328',\n",
       " '329am',\n",
       " '32minutes',\n",
       " '32Â',\n",
       " '33',\n",
       " '330',\n",
       " '33000',\n",
       " '330am',\n",
       " '33100',\n",
       " '333',\n",
       " '3334',\n",
       " '334',\n",
       " '335',\n",
       " '336lbs',\n",
       " '338',\n",
       " '33hrschool',\n",
       " '33th',\n",
       " '33weeks',\n",
       " '33æ\\xad³â\\x80¦',\n",
       " '34',\n",
       " '340',\n",
       " '3400',\n",
       " '342',\n",
       " '3425',\n",
       " '349',\n",
       " '34th',\n",
       " '35',\n",
       " '350',\n",
       " '3500',\n",
       " '350s',\n",
       " '355',\n",
       " '356',\n",
       " '357',\n",
       " '35mins',\n",
       " '35th',\n",
       " '36',\n",
       " '360',\n",
       " '3600',\n",
       " '360lifestyle',\n",
       " '360video',\n",
       " '363',\n",
       " '364',\n",
       " '365',\n",
       " '3650',\n",
       " '365black',\n",
       " '366',\n",
       " '366days',\n",
       " '366photos2016',\n",
       " '36pm',\n",
       " '36weeks',\n",
       " '37',\n",
       " '374',\n",
       " '37b',\n",
       " '37days',\n",
       " '38',\n",
       " '3818',\n",
       " '385',\n",
       " '386',\n",
       " '3866',\n",
       " '38billion',\n",
       " '38k',\n",
       " '39',\n",
       " '391',\n",
       " '399',\n",
       " '3999',\n",
       " '3aday',\n",
       " '3am',\n",
       " '3athlonlife',\n",
       " '3become4',\n",
       " '3bookstogo',\n",
       " '3d',\n",
       " '3days',\n",
       " '3daysleft',\n",
       " '3dcommerce',\n",
       " '3ddesign',\n",
       " '3dhâ\\x80¦',\n",
       " '3dmodelling',\n",
       " '3dprint',\n",
       " '3dprinting',\n",
       " '3fridaynights',\n",
       " '3g',\n",
       " '3gswing',\n",
       " '3hrs',\n",
       " '3jul',\n",
       " '3k',\n",
       " '3lines',\n",
       " '3m',\n",
       " '3mi',\n",
       " '3months',\n",
       " '3pm',\n",
       " '3qw',\n",
       " '3rd',\n",
       " '3rdplace',\n",
       " '3rdâ\\x80¦',\n",
       " '3rs',\n",
       " '3s',\n",
       " '3to6',\n",
       " '3worldnews',\n",
       " '3x',\n",
       " '3yearold',\n",
       " '3years',\n",
       " '3yearsinarow',\n",
       " '3yearswithbts',\n",
       " '3yr',\n",
       " '3â\\x80¦',\n",
       " '4',\n",
       " '40',\n",
       " '400',\n",
       " '4000',\n",
       " '400000',\n",
       " '404',\n",
       " '40404',\n",
       " '405',\n",
       " '407',\n",
       " '40points',\n",
       " '40s',\n",
       " '40th',\n",
       " '40years',\n",
       " '410',\n",
       " '411',\n",
       " '41167',\n",
       " '411am',\n",
       " '4121861',\n",
       " '41s',\n",
       " '41Â',\n",
       " '42',\n",
       " '420',\n",
       " '426',\n",
       " '42k',\n",
       " '42ndstreet',\n",
       " '43',\n",
       " '435',\n",
       " '44',\n",
       " ...]"
      ]
     },
     "execution_count": 32,
     "metadata": {},
     "output_type": "execute_result"
    }
   ],
   "source": [
    "vectorizer.get_feature_names()"
   ]
  },
  {
   "cell_type": "code",
   "execution_count": 33,
   "metadata": {
    "execution": {
     "iopub.execute_input": "2022-02-27T16:23:30.497906Z",
     "iopub.status.busy": "2022-02-27T16:23:30.497263Z",
     "iopub.status.idle": "2022-02-27T16:23:31.075624Z",
     "shell.execute_reply": "2022-02-27T16:23:31.074407Z",
     "shell.execute_reply.started": "2022-02-27T15:57:05.674796Z"
    },
    "papermill": {
     "duration": 0.629403,
     "end_time": "2022-02-27T16:23:31.075878",
     "exception": false,
     "start_time": "2022-02-27T16:23:30.446475",
     "status": "completed"
    },
    "tags": []
   },
   "outputs": [
    {
     "name": "stdout",
     "output_type": "stream",
     "text": [
      "[[0 0 0 ... 0 0 0]\n",
      " [0 0 0 ... 0 0 0]\n",
      " [0 0 0 ... 0 0 0]\n",
      " ...\n",
      " [0 0 0 ... 0 0 0]\n",
      " [0 0 0 ... 0 0 0]\n",
      " [0 0 0 ... 0 0 0]]\n"
     ]
    }
   ],
   "source": [
    "print(tweets_countvectorizer.toarray())  "
   ]
  },
  {
   "cell_type": "code",
   "execution_count": 34,
   "metadata": {
    "execution": {
     "iopub.execute_input": "2022-02-27T16:23:31.179084Z",
     "iopub.status.busy": "2022-02-27T16:23:31.178303Z",
     "iopub.status.idle": "2022-02-27T16:23:31.181509Z",
     "shell.execute_reply": "2022-02-27T16:23:31.181947Z",
     "shell.execute_reply.started": "2022-02-27T15:57:08.28822Z"
    },
    "papermill": {
     "duration": 0.05815,
     "end_time": "2022-02-27T16:23:31.182145",
     "exception": false,
     "start_time": "2022-02-27T16:23:31.123995",
     "status": "completed"
    },
    "tags": []
   },
   "outputs": [
    {
     "data": {
      "text/plain": [
       "(31962, 47386)"
      ]
     },
     "execution_count": 34,
     "metadata": {},
     "output_type": "execute_result"
    }
   ],
   "source": [
    "tweets_countvectorizer.shape"
   ]
  },
  {
   "cell_type": "code",
   "execution_count": 35,
   "metadata": {
    "execution": {
     "iopub.execute_input": "2022-02-27T16:23:31.280575Z",
     "iopub.status.busy": "2022-02-27T16:23:31.279651Z",
     "iopub.status.idle": "2022-02-27T16:23:31.746542Z",
     "shell.execute_reply": "2022-02-27T16:23:31.746980Z",
     "shell.execute_reply.started": "2022-02-27T15:57:10.410736Z"
    },
    "papermill": {
     "duration": 0.517949,
     "end_time": "2022-02-27T16:23:31.747179",
     "exception": false,
     "start_time": "2022-02-27T16:23:31.229230",
     "status": "completed"
    },
    "tags": []
   },
   "outputs": [
    {
     "data": {
      "text/html": [
       "<div>\n",
       "<style scoped>\n",
       "    .dataframe tbody tr th:only-of-type {\n",
       "        vertical-align: middle;\n",
       "    }\n",
       "\n",
       "    .dataframe tbody tr th {\n",
       "        vertical-align: top;\n",
       "    }\n",
       "\n",
       "    .dataframe thead th {\n",
       "        text-align: right;\n",
       "    }\n",
       "</style>\n",
       "<table border=\"1\" class=\"dataframe\">\n",
       "  <thead>\n",
       "    <tr style=\"text-align: right;\">\n",
       "      <th></th>\n",
       "      <th>0</th>\n",
       "      <th>1</th>\n",
       "      <th>2</th>\n",
       "      <th>3</th>\n",
       "      <th>4</th>\n",
       "      <th>5</th>\n",
       "      <th>6</th>\n",
       "      <th>7</th>\n",
       "      <th>8</th>\n",
       "      <th>9</th>\n",
       "      <th>...</th>\n",
       "      <th>47376</th>\n",
       "      <th>47377</th>\n",
       "      <th>47378</th>\n",
       "      <th>47379</th>\n",
       "      <th>47380</th>\n",
       "      <th>47381</th>\n",
       "      <th>47382</th>\n",
       "      <th>47383</th>\n",
       "      <th>47384</th>\n",
       "      <th>47385</th>\n",
       "    </tr>\n",
       "  </thead>\n",
       "  <tbody>\n",
       "    <tr>\n",
       "      <th>0</th>\n",
       "      <td>0</td>\n",
       "      <td>0</td>\n",
       "      <td>0</td>\n",
       "      <td>0</td>\n",
       "      <td>0</td>\n",
       "      <td>0</td>\n",
       "      <td>0</td>\n",
       "      <td>0</td>\n",
       "      <td>0</td>\n",
       "      <td>0</td>\n",
       "      <td>...</td>\n",
       "      <td>0</td>\n",
       "      <td>0</td>\n",
       "      <td>0</td>\n",
       "      <td>0</td>\n",
       "      <td>0</td>\n",
       "      <td>0</td>\n",
       "      <td>0</td>\n",
       "      <td>0</td>\n",
       "      <td>0</td>\n",
       "      <td>0</td>\n",
       "    </tr>\n",
       "    <tr>\n",
       "      <th>1</th>\n",
       "      <td>0</td>\n",
       "      <td>0</td>\n",
       "      <td>0</td>\n",
       "      <td>0</td>\n",
       "      <td>0</td>\n",
       "      <td>0</td>\n",
       "      <td>0</td>\n",
       "      <td>0</td>\n",
       "      <td>0</td>\n",
       "      <td>0</td>\n",
       "      <td>...</td>\n",
       "      <td>0</td>\n",
       "      <td>0</td>\n",
       "      <td>0</td>\n",
       "      <td>0</td>\n",
       "      <td>0</td>\n",
       "      <td>0</td>\n",
       "      <td>0</td>\n",
       "      <td>0</td>\n",
       "      <td>0</td>\n",
       "      <td>0</td>\n",
       "    </tr>\n",
       "    <tr>\n",
       "      <th>2</th>\n",
       "      <td>0</td>\n",
       "      <td>0</td>\n",
       "      <td>0</td>\n",
       "      <td>0</td>\n",
       "      <td>0</td>\n",
       "      <td>0</td>\n",
       "      <td>0</td>\n",
       "      <td>0</td>\n",
       "      <td>0</td>\n",
       "      <td>0</td>\n",
       "      <td>...</td>\n",
       "      <td>0</td>\n",
       "      <td>0</td>\n",
       "      <td>0</td>\n",
       "      <td>0</td>\n",
       "      <td>0</td>\n",
       "      <td>0</td>\n",
       "      <td>0</td>\n",
       "      <td>0</td>\n",
       "      <td>0</td>\n",
       "      <td>0</td>\n",
       "    </tr>\n",
       "    <tr>\n",
       "      <th>3</th>\n",
       "      <td>0</td>\n",
       "      <td>0</td>\n",
       "      <td>0</td>\n",
       "      <td>0</td>\n",
       "      <td>0</td>\n",
       "      <td>0</td>\n",
       "      <td>0</td>\n",
       "      <td>0</td>\n",
       "      <td>0</td>\n",
       "      <td>0</td>\n",
       "      <td>...</td>\n",
       "      <td>0</td>\n",
       "      <td>0</td>\n",
       "      <td>0</td>\n",
       "      <td>0</td>\n",
       "      <td>0</td>\n",
       "      <td>0</td>\n",
       "      <td>0</td>\n",
       "      <td>0</td>\n",
       "      <td>0</td>\n",
       "      <td>0</td>\n",
       "    </tr>\n",
       "    <tr>\n",
       "      <th>4</th>\n",
       "      <td>0</td>\n",
       "      <td>0</td>\n",
       "      <td>0</td>\n",
       "      <td>0</td>\n",
       "      <td>0</td>\n",
       "      <td>0</td>\n",
       "      <td>0</td>\n",
       "      <td>0</td>\n",
       "      <td>0</td>\n",
       "      <td>0</td>\n",
       "      <td>...</td>\n",
       "      <td>0</td>\n",
       "      <td>0</td>\n",
       "      <td>0</td>\n",
       "      <td>0</td>\n",
       "      <td>0</td>\n",
       "      <td>0</td>\n",
       "      <td>0</td>\n",
       "      <td>0</td>\n",
       "      <td>0</td>\n",
       "      <td>0</td>\n",
       "    </tr>\n",
       "    <tr>\n",
       "      <th>...</th>\n",
       "      <td>...</td>\n",
       "      <td>...</td>\n",
       "      <td>...</td>\n",
       "      <td>...</td>\n",
       "      <td>...</td>\n",
       "      <td>...</td>\n",
       "      <td>...</td>\n",
       "      <td>...</td>\n",
       "      <td>...</td>\n",
       "      <td>...</td>\n",
       "      <td>...</td>\n",
       "      <td>...</td>\n",
       "      <td>...</td>\n",
       "      <td>...</td>\n",
       "      <td>...</td>\n",
       "      <td>...</td>\n",
       "      <td>...</td>\n",
       "      <td>...</td>\n",
       "      <td>...</td>\n",
       "      <td>...</td>\n",
       "      <td>...</td>\n",
       "    </tr>\n",
       "    <tr>\n",
       "      <th>31957</th>\n",
       "      <td>0</td>\n",
       "      <td>0</td>\n",
       "      <td>0</td>\n",
       "      <td>0</td>\n",
       "      <td>0</td>\n",
       "      <td>0</td>\n",
       "      <td>0</td>\n",
       "      <td>0</td>\n",
       "      <td>0</td>\n",
       "      <td>0</td>\n",
       "      <td>...</td>\n",
       "      <td>0</td>\n",
       "      <td>0</td>\n",
       "      <td>0</td>\n",
       "      <td>0</td>\n",
       "      <td>0</td>\n",
       "      <td>0</td>\n",
       "      <td>0</td>\n",
       "      <td>0</td>\n",
       "      <td>0</td>\n",
       "      <td>0</td>\n",
       "    </tr>\n",
       "    <tr>\n",
       "      <th>31958</th>\n",
       "      <td>0</td>\n",
       "      <td>0</td>\n",
       "      <td>0</td>\n",
       "      <td>0</td>\n",
       "      <td>0</td>\n",
       "      <td>0</td>\n",
       "      <td>0</td>\n",
       "      <td>0</td>\n",
       "      <td>0</td>\n",
       "      <td>0</td>\n",
       "      <td>...</td>\n",
       "      <td>0</td>\n",
       "      <td>0</td>\n",
       "      <td>0</td>\n",
       "      <td>0</td>\n",
       "      <td>0</td>\n",
       "      <td>0</td>\n",
       "      <td>0</td>\n",
       "      <td>0</td>\n",
       "      <td>0</td>\n",
       "      <td>0</td>\n",
       "    </tr>\n",
       "    <tr>\n",
       "      <th>31959</th>\n",
       "      <td>0</td>\n",
       "      <td>0</td>\n",
       "      <td>0</td>\n",
       "      <td>0</td>\n",
       "      <td>0</td>\n",
       "      <td>0</td>\n",
       "      <td>0</td>\n",
       "      <td>0</td>\n",
       "      <td>0</td>\n",
       "      <td>0</td>\n",
       "      <td>...</td>\n",
       "      <td>0</td>\n",
       "      <td>0</td>\n",
       "      <td>0</td>\n",
       "      <td>0</td>\n",
       "      <td>0</td>\n",
       "      <td>0</td>\n",
       "      <td>0</td>\n",
       "      <td>0</td>\n",
       "      <td>0</td>\n",
       "      <td>0</td>\n",
       "    </tr>\n",
       "    <tr>\n",
       "      <th>31960</th>\n",
       "      <td>0</td>\n",
       "      <td>0</td>\n",
       "      <td>0</td>\n",
       "      <td>0</td>\n",
       "      <td>0</td>\n",
       "      <td>0</td>\n",
       "      <td>0</td>\n",
       "      <td>0</td>\n",
       "      <td>0</td>\n",
       "      <td>0</td>\n",
       "      <td>...</td>\n",
       "      <td>0</td>\n",
       "      <td>0</td>\n",
       "      <td>0</td>\n",
       "      <td>0</td>\n",
       "      <td>0</td>\n",
       "      <td>0</td>\n",
       "      <td>0</td>\n",
       "      <td>0</td>\n",
       "      <td>0</td>\n",
       "      <td>0</td>\n",
       "    </tr>\n",
       "    <tr>\n",
       "      <th>31961</th>\n",
       "      <td>0</td>\n",
       "      <td>0</td>\n",
       "      <td>0</td>\n",
       "      <td>0</td>\n",
       "      <td>0</td>\n",
       "      <td>0</td>\n",
       "      <td>0</td>\n",
       "      <td>0</td>\n",
       "      <td>0</td>\n",
       "      <td>0</td>\n",
       "      <td>...</td>\n",
       "      <td>0</td>\n",
       "      <td>0</td>\n",
       "      <td>0</td>\n",
       "      <td>0</td>\n",
       "      <td>0</td>\n",
       "      <td>0</td>\n",
       "      <td>0</td>\n",
       "      <td>0</td>\n",
       "      <td>0</td>\n",
       "      <td>0</td>\n",
       "    </tr>\n",
       "  </tbody>\n",
       "</table>\n",
       "<p>31962 rows × 47386 columns</p>\n",
       "</div>"
      ],
      "text/plain": [
       "       0      1      2      3      4      5      6      7      8      9      \\\n",
       "0          0      0      0      0      0      0      0      0      0      0   \n",
       "1          0      0      0      0      0      0      0      0      0      0   \n",
       "2          0      0      0      0      0      0      0      0      0      0   \n",
       "3          0      0      0      0      0      0      0      0      0      0   \n",
       "4          0      0      0      0      0      0      0      0      0      0   \n",
       "...      ...    ...    ...    ...    ...    ...    ...    ...    ...    ...   \n",
       "31957      0      0      0      0      0      0      0      0      0      0   \n",
       "31958      0      0      0      0      0      0      0      0      0      0   \n",
       "31959      0      0      0      0      0      0      0      0      0      0   \n",
       "31960      0      0      0      0      0      0      0      0      0      0   \n",
       "31961      0      0      0      0      0      0      0      0      0      0   \n",
       "\n",
       "       ...  47376  47377  47378  47379  47380  47381  47382  47383  47384  \\\n",
       "0      ...      0      0      0      0      0      0      0      0      0   \n",
       "1      ...      0      0      0      0      0      0      0      0      0   \n",
       "2      ...      0      0      0      0      0      0      0      0      0   \n",
       "3      ...      0      0      0      0      0      0      0      0      0   \n",
       "4      ...      0      0      0      0      0      0      0      0      0   \n",
       "...    ...    ...    ...    ...    ...    ...    ...    ...    ...    ...   \n",
       "31957  ...      0      0      0      0      0      0      0      0      0   \n",
       "31958  ...      0      0      0      0      0      0      0      0      0   \n",
       "31959  ...      0      0      0      0      0      0      0      0      0   \n",
       "31960  ...      0      0      0      0      0      0      0      0      0   \n",
       "31961  ...      0      0      0      0      0      0      0      0      0   \n",
       "\n",
       "       47385  \n",
       "0          0  \n",
       "1          0  \n",
       "2          0  \n",
       "3          0  \n",
       "4          0  \n",
       "...      ...  \n",
       "31957      0  \n",
       "31958      0  \n",
       "31959      0  \n",
       "31960      0  \n",
       "31961      0  \n",
       "\n",
       "[31962 rows x 47386 columns]"
      ]
     },
     "execution_count": 35,
     "metadata": {},
     "output_type": "execute_result"
    }
   ],
   "source": [
    "tweets = pd.DataFrame(tweets_countvectorizer.toarray())\n",
    "\n",
    "X = tweets\n",
    "\n",
    "X"
   ]
  },
  {
   "cell_type": "code",
   "execution_count": 36,
   "metadata": {
    "execution": {
     "iopub.execute_input": "2022-02-27T16:23:31.847442Z",
     "iopub.status.busy": "2022-02-27T16:23:31.846450Z",
     "iopub.status.idle": "2022-02-27T16:23:31.850508Z",
     "shell.execute_reply": "2022-02-27T16:23:31.851025Z",
     "shell.execute_reply.started": "2022-02-27T15:57:15.388932Z"
    },
    "papermill": {
     "duration": 0.056781,
     "end_time": "2022-02-27T16:23:31.851249",
     "exception": false,
     "start_time": "2022-02-27T16:23:31.794468",
     "status": "completed"
    },
    "tags": []
   },
   "outputs": [],
   "source": [
    "y = tweets_df['label']"
   ]
  },
  {
   "cell_type": "markdown",
   "metadata": {
    "papermill": {
     "duration": 0.04798,
     "end_time": "2022-02-27T16:23:31.948338",
     "exception": false,
     "start_time": "2022-02-27T16:23:31.900358",
     "status": "completed"
    },
    "tags": []
   },
   "source": [
    "# Working of Naive Bayes Theoram"
   ]
  },
  {
   "cell_type": "code",
   "execution_count": 37,
   "metadata": {
    "execution": {
     "iopub.execute_input": "2022-02-27T16:23:32.048888Z",
     "iopub.status.busy": "2022-02-27T16:23:32.047906Z",
     "iopub.status.idle": "2022-02-27T16:23:32.051373Z",
     "shell.execute_reply": "2022-02-27T16:23:32.051779Z",
     "shell.execute_reply.started": "2022-02-27T16:07:55.877566Z"
    },
    "papermill": {
     "duration": 0.055754,
     "end_time": "2022-02-27T16:23:32.051967",
     "exception": false,
     "start_time": "2022-02-27T16:23:31.996213",
     "status": "completed"
    },
    "tags": []
   },
   "outputs": [],
   "source": [
    "# Naive Bayes is a classification technique based on bayes theoram\n",
    "# The theoram works on conditional Probability and Mathematics\n",
    "\n",
    "# PRIOR PROBABILITY --> Probability of assuming before, performing the experiment.\n",
    "# LIKLIHOOD PROBABILITY --> Probability of assuming while performing the experiment.\n",
    "# POSTERIOR PROBABILITY --> Probability by combining both prior and liklihood probability.\n",
    "\n",
    "# Formula of Naive Bayes Theoram:\n",
    "#    P(A|B) = (P(B|A) * p(A)) / P(B)"
   ]
  },
  {
   "cell_type": "markdown",
   "metadata": {
    "papermill": {
     "duration": 0.047759,
     "end_time": "2022-02-27T16:23:32.148445",
     "exception": false,
     "start_time": "2022-02-27T16:23:32.100686",
     "status": "completed"
    },
    "tags": []
   },
   "source": [
    "# Training the Model"
   ]
  },
  {
   "cell_type": "code",
   "execution_count": 38,
   "metadata": {
    "execution": {
     "iopub.execute_input": "2022-02-27T16:23:32.250406Z",
     "iopub.status.busy": "2022-02-27T16:23:32.249398Z",
     "iopub.status.idle": "2022-02-27T16:23:32.254303Z",
     "shell.execute_reply": "2022-02-27T16:23:32.254745Z",
     "shell.execute_reply.started": "2022-02-27T16:09:09.843199Z"
    },
    "papermill": {
     "duration": 0.056842,
     "end_time": "2022-02-27T16:23:32.254917",
     "exception": false,
     "start_time": "2022-02-27T16:23:32.198075",
     "status": "completed"
    },
    "tags": []
   },
   "outputs": [
    {
     "name": "stdout",
     "output_type": "stream",
     "text": [
      "(31962, 47386)\n",
      "(31962,)\n"
     ]
    }
   ],
   "source": [
    "print(X.shape)\n",
    "\n",
    "print(y.shape)"
   ]
  },
  {
   "cell_type": "code",
   "execution_count": 39,
   "metadata": {
    "execution": {
     "iopub.execute_input": "2022-02-27T16:23:32.357677Z",
     "iopub.status.busy": "2022-02-27T16:23:32.356693Z",
     "iopub.status.idle": "2022-02-27T16:23:35.678820Z",
     "shell.execute_reply": "2022-02-27T16:23:35.678296Z",
     "shell.execute_reply.started": "2022-02-27T16:09:18.758861Z"
    },
    "papermill": {
     "duration": 3.374497,
     "end_time": "2022-02-27T16:23:35.678971",
     "exception": false,
     "start_time": "2022-02-27T16:23:32.304474",
     "status": "completed"
    },
    "tags": []
   },
   "outputs": [],
   "source": [
    "from sklearn.model_selection import train_test_split\n",
    "X_train, X_test, y_train, y_test = train_test_split(X, y, test_size=0.2)"
   ]
  },
  {
   "cell_type": "code",
   "execution_count": 40,
   "metadata": {
    "execution": {
     "iopub.execute_input": "2022-02-27T16:23:35.785565Z",
     "iopub.status.busy": "2022-02-27T16:23:35.784695Z",
     "iopub.status.idle": "2022-02-27T16:24:09.157641Z",
     "shell.execute_reply": "2022-02-27T16:24:09.158282Z",
     "shell.execute_reply.started": "2022-02-27T16:09:27.618859Z"
    },
    "papermill": {
     "duration": 33.42974,
     "end_time": "2022-02-27T16:24:09.158660",
     "exception": false,
     "start_time": "2022-02-27T16:23:35.728920",
     "status": "completed"
    },
    "tags": []
   },
   "outputs": [
    {
     "data": {
      "text/plain": [
       "MultinomialNB()"
      ]
     },
     "execution_count": 40,
     "metadata": {},
     "output_type": "execute_result"
    }
   ],
   "source": [
    "from sklearn.naive_bayes import MultinomialNB\n",
    "\n",
    "NB_classifier = MultinomialNB()\n",
    "NB_classifier.fit(X_train, y_train)"
   ]
  },
  {
   "cell_type": "markdown",
   "metadata": {
    "papermill": {
     "duration": 0.048685,
     "end_time": "2022-02-27T16:24:09.256252",
     "exception": false,
     "start_time": "2022-02-27T16:24:09.207567",
     "status": "completed"
    },
    "tags": []
   },
   "source": [
    "# Assess the Model Performance using Confusion Matrix"
   ]
  },
  {
   "cell_type": "code",
   "execution_count": 41,
   "metadata": {
    "execution": {
     "iopub.execute_input": "2022-02-27T16:24:09.357976Z",
     "iopub.status.busy": "2022-02-27T16:24:09.357336Z",
     "iopub.status.idle": "2022-02-27T16:24:09.360780Z",
     "shell.execute_reply": "2022-02-27T16:24:09.361424Z",
     "shell.execute_reply.started": "2022-02-27T16:11:07.293728Z"
    },
    "papermill": {
     "duration": 0.056584,
     "end_time": "2022-02-27T16:24:09.361612",
     "exception": false,
     "start_time": "2022-02-27T16:24:09.305028",
     "status": "completed"
    },
    "tags": []
   },
   "outputs": [],
   "source": [
    "# Confusion Matrix --> Compares true value with predicted value "
   ]
  },
  {
   "cell_type": "code",
   "execution_count": 42,
   "metadata": {
    "execution": {
     "iopub.execute_input": "2022-02-27T16:24:09.469086Z",
     "iopub.status.busy": "2022-02-27T16:24:09.468370Z",
     "iopub.status.idle": "2022-02-27T16:24:11.042681Z",
     "shell.execute_reply": "2022-02-27T16:24:11.041853Z",
     "shell.execute_reply.started": "2022-02-27T16:11:26.19326Z"
    },
    "papermill": {
     "duration": 1.632079,
     "end_time": "2022-02-27T16:24:11.042853",
     "exception": false,
     "start_time": "2022-02-27T16:24:09.410774",
     "status": "completed"
    },
    "tags": []
   },
   "outputs": [
    {
     "data": {
      "text/plain": [
       "<AxesSubplot:>"
      ]
     },
     "execution_count": 42,
     "metadata": {},
     "output_type": "execute_result"
    },
    {
     "data": {
      "image/png": "[encoded data removed]",
      "text/plain": [
       "<Figure size 432x288 with 2 Axes>"
      ]
     },
     "metadata": {
      "needs_background": "light"
     },
     "output_type": "display_data"
    }
   ],
   "source": [
    "from sklearn.metrics import classification_report, confusion_matrix\n",
    "\n",
    "# Predicting the Test set results\n",
    "y_predict_test = NB_classifier.predict(X_test[0:6393])\n",
    "cm = confusion_matrix(y_test, y_predict_test)\n",
    "sns.heatmap(cm, annot=True)"
   ]
  },
  {
   "cell_type": "code",
   "execution_count": 43,
   "metadata": {
    "execution": {
     "iopub.execute_input": "2022-02-27T16:24:11.151399Z",
     "iopub.status.busy": "2022-02-27T16:24:11.150696Z",
     "iopub.status.idle": "2022-02-27T16:24:11.165658Z",
     "shell.execute_reply": "2022-02-27T16:24:11.165123Z",
     "shell.execute_reply.started": "2022-02-27T16:11:36.211996Z"
    },
    "papermill": {
     "duration": 0.071625,
     "end_time": "2022-02-27T16:24:11.165821",
     "exception": false,
     "start_time": "2022-02-27T16:24:11.094196",
     "status": "completed"
    },
    "tags": []
   },
   "outputs": [
    {
     "name": "stdout",
     "output_type": "stream",
     "text": [
      "              precision    recall  f1-score   support\n",
      "\n",
      "           0       0.97      0.97      0.97      5957\n",
      "           1       0.59      0.53      0.55       436\n",
      "\n",
      "    accuracy                           0.94      6393\n",
      "   macro avg       0.78      0.75      0.76      6393\n",
      "weighted avg       0.94      0.94      0.94      6393\n",
      "\n"
     ]
    }
   ],
   "source": [
    "print(classification_report(y_test, y_predict_test))"
   ]
  }
 ],
 "metadata": {
  "kernelspec": {
   "display_name": "Python 3",
   "language": "python",
   "name": "python3"
  },
  "language_info": {
   "codemirror_mode": {
    "name": "ipython",
    "version": 3
   },
   "file_extension": ".py",
   "mimetype": "text/x-python",
   "name": "python",
   "nbconvert_exporter": "python",
   "pygments_lexer": "ipython3",
   "version": "3.8.5"
  },
  "papermill": {
   "default_parameters": {},
   "duration": 156.044171,
   "end_time": "2022-02-27T16:24:12.841925",
   "environment_variables": {},
   "exception": null,
   "input_path": "__notebook__.ipynb",
   "output_path": "__notebook__.ipynb",
   "parameters": {},
   "start_time": "2022-02-27T16:21:36.797754",
   "version": "2.3.3"
  }
 },
 "nbformat": 4,
 "nbformat_minor": 5
}
